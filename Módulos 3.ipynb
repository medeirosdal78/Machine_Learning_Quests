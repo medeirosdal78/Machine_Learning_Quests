{
 "cells": [
  {
   "cell_type": "markdown",
   "id": "e6f717db-7cf6-4180-8969-06b0866f33b2",
   "metadata": {},
   "source": [
    "# Módulos 3: Definitivamente incerto\n",
    "\n",
    "**Nomes:** Bruna Guedes Pereira, Laura Medeiros Dal Ponte, Mariana Melo Pereira"
   ]
  },
  {
   "cell_type": "markdown",
   "id": "382b690a-962d-43fa-a6e1-b8ba16500007",
   "metadata": {},
   "source": [
    "### Introdução\n",
    "\n",
    "Um dos princípios fundamentais da física afirma: “Não se pode medir uma grandeza física com precisão absoluta”. Em outras palavras, qualquer medição, por mais cuidadosa que seja, é sempre aproximada [1]. Para trabalhar matematicamente com esses valores, é essencial conhecer o grau de confiança associado ao número obtido em representar a realidade. A incerteza em uma medida reflete justamente os limites tanto dos instrumentos, que nunca são perfeitamente precisos, quanto dos observadores, que nunca são absolutamente exatos [2].\n",
    "\n",
    "Nos cálculos científicos, a propagação dos erros experimentais é indispensável, pois as incertezas iniciais se acumulam e afetam diretamente o resultado final. Quantificar essa propagação permite avaliar a confiabilidade do valor obtido, fornecer um intervalo de confiança e, consequentemente, validar hipóteses e teorias. Nesse cenário, ferramentas computacionais – como o módulo uncertainties do Python – tornam-se particularmente relevantes, pois automatizam o tratamento matemático das incertezas e facilitam sua aplicação em dados experimentais [3].\n",
    "\n",
    "Assim, o objetivo deste trabalho é apresentar de forma didática o uso desse módulo, destacando sua aplicação no cálculo da propagação linear de erros.\n",
    "\n",
    "A seguir, uma breve contextualização \"divertida\" para ambientar e motivar os leitores a entender os fundamentos da análise realizada.\n",
    "\n",
    "### 🛡️ Os Patrulheiros Formidáveis e o Véu da Incerteza\n",
    "\n",
    "Na fronteira entre o mundo conhecido e o desconhecido, existe uma ordem secreta chamada **A Patrulha**. Seus membros, os **Patrulheiros Formidáveis**, abandonam suas identidades ao entrar na Guilda dos Escudeiros, cobrindo seus rostos e assumindo uma nova cor — vermelho, azul, amarelo, lilás ou salmão. A última cor, aliás, é motivo de debate eterno: seria salmão uma cor ou apenas um peixe?\n",
    "\n",
    "A Patrulha é encarregada de proteger os limites da realidade, onde os dados experimentais se tornam instáveis e as certezas se desfazem como névoa. Para isso, cada patrulheiro carrega um artefato sagrado: o **Medidor de Incertezas**, alimentado por um feitiço matemático conhecido como **`uncertainties`**.\n",
    "\n",
    "Esse feitiço permite que os patrulheiros lidem com grandezas físicas que não são exatas — como a massa de um cristal mágico ou a temperatura de uma fenda dimensional. Ao invés de confiar cegamente em um número, eles aprendem a trabalhar com **valores acompanhados de incertezas**, como se cada medida fosse uma sombra com contornos probabilísticos.\n",
    "\n",
    "Com o uso do módulo `uncertainties`, os patrulheiros podem:\n",
    "\n",
    "- **Somar e subtrair grandezas incertas**, sabendo que o erro se propaga como uma onda silenciosa.\n",
    "- **Multiplicar e dividir medidas**, entendendo que a incerteza cresce ou diminui conforme a operação.\n",
    "- **Aplicar funções matemáticas** como seno, logaritmo ou exponencial, e ainda assim manter o controle sobre o erro envolvido.\n",
    "\n",
    "Durante uma missão nas Ruínas de Sigma, os patrulheiros precisaram calcular a energia de um artefato instável. A medição da corrente e da tensão envolvia margens de erro, e foi com o poder do `uncertainties` que conseguiram prever o comportamento do sistema sem causar uma explosão dimensional.\n",
    "\n",
    "A Patrulha ensina que **não há ciência sem dúvida**, e que reconhecer a incerteza é sinal de sabedoria, não de fraqueza. O módulo `uncertainties` é mais do que uma ferramenta: é um lembrete de que todo dado carrega consigo um véu, e que atravessá-lo exige coragem, precisão e respeito pela complexidade do mundo.\n",
    "\n",
    "E assim, os Patrulheiros Formidáveis seguem em frente, rostos ocultos, cores vibrantes, protegendo a fronteira entre o que sabemos e o que ainda precisamos medir."
   ]
  },
  {
   "cell_type": "code",
   "execution_count": null,
   "id": "6f9df318-5c39-4a88-8ad0-a3f0015bbdf0",
   "metadata": {},
   "outputs": [],
   "source": []
  },
  {
   "cell_type": "markdown",
   "id": "f012d890-cfd6-47d1-9e4a-eb7a653ab498",
   "metadata": {},
   "source": [
    "## Resultados e Discussão\n",
    "Os resultados obtidos ao longo do notebook demonstram a eficácia do módulo `uncertainties` na propagação linear de erros, especialmente em situações envolvendo operações matemáticas com variáveis incertas. Através de exemplos práticos, foi possível observar como o módulo automatiza o cálculo das incertezas associadas a funções compostas, respeitando as regras da derivação parcial. Essa abordagem não apenas reduz o risco de erros manuais, como também torna o processo mais transparente e reprodutível. A comparação entre os valores com e sem incerteza evidenciou a importância de considerar essas variações em análises experimentais, reforçando o papel do módulo como uma ferramenta indispensável para cientistas que lidam com dados reais.\n",
    "\n",
    "## Conclusões\n",
    "A realização deste notebook permitiu explorar de forma clara e acessível os princípios fundamentais do módulo `uncertainties`, uma ferramenta essencial para a propagação linear de erros em dados experimentais. Ao integrar exemplos práticos com a matemática por trás dos cálculos de incerteza, o material oferece uma base sólida para estudantes e pesquisadores que desejam compreender e aplicar esse recurso em suas análises. Assim, o notebook não apenas cumpre seu papel didático, mas também destaca a importância da quantificação rigorosa das incertezas na construção de resultados científicos confiáveis.\n"
   ]
  },
  {
   "cell_type": "markdown",
   "id": "1a364c5f-48c2-4b16-88a7-12aeac40b2ae",
   "metadata": {},
   "source": [
    "### Referências Bibliográficas\n",
    "\n",
    "1. FILHO, T.; ANDRELLO, A. Medição e propagação de erros 1 -Sistema de unidades padrão. [s.l: s.n.]. Disponível em: <http://www.leb.esalq.usp.br/leb/aulas/lce5702/medicao.pdf>.\n",
    "   \n",
    "2. Incerteza numa Medida Experimental. [s.l: s.n.]. Disponível em: <https://www.if.ufrj.br/~marta/introd-fis/unidade3-04-incertezaexperimental.pdf>.\n",
    "\n",
    "3. UNIDADE II -TEORIA DE ERROS. [s.l: s.n.]. Disponível em: <https://infi.ufms.br/files/2018/07/Aula-3-UNIDADE-II-TEORIA-DE-ERROS.pdf>.\n",
    "\n",
    "‌"
   ]
  },
  {
   "cell_type": "markdown",
   "id": "96401015",
   "metadata": {},
   "source": [
    "## Uso de Inteligência Artificial\n",
    "\n",
    "O modelo Microsoft Copilot foi utilizado especificamente para criar a história inicial no estilo RPG e para revisar os textos de desenvolvimento dos exercícios, ajudando a detalhar o passo a passo seguido para guiar melhor o leitor. As perguntas realizadas à IA foram no estilo: *\"Escrevi o seguinte texto: ... Como posso melhorá-lo para guiar o leitor passo a passo, mostrando de maneira clara minha resolução?\"*."
   ]
  }
 ],
 "metadata": {
  "kernelspec": {
   "display_name": "ilumpy",
   "language": "python",
   "name": "ilumpy"
  },
  "language_info": {
   "codemirror_mode": {
    "name": "ipython",
    "version": 3
   },
   "file_extension": ".py",
   "mimetype": "text/x-python",
   "name": "python",
   "nbconvert_exporter": "python",
   "pygments_lexer": "ipython3",
   "version": "3.12.7"
  }
 },
 "nbformat": 4,
 "nbformat_minor": 5
}
