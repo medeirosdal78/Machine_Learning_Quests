{
 "cells": [
  {
   "cell_type": "markdown",
   "id": "4fa42112-80df-41fc-b498-13b7a621ee2f",
   "metadata": {},
   "source": [
    "# Aprendizado de Máquina\n",
    "**Aluna**: _Bruna Guedes Pereira, Laura Medeiros Dal Ponte, Mariana Melo Pereira_"
   ]
  },
  {
   "cell_type": "markdown",
   "id": "e6f717db-7cf6-4180-8969-06b0866f33b2",
   "metadata": {},
   "source": [
    "## Definitivamente incerto"
   ]
  },
  {
   "cell_type": "markdown",
   "id": "77930d1d-9974-49d3-94e9-44be0bbe8497",
   "metadata": {},
   "source": [
    "_Módulos 3_"
   ]
  },
  {
   "cell_type": "markdown",
   "id": "382b690a-962d-43fa-a6e1-b8ba16500007",
   "metadata": {},
   "source": [
    "### Introdução\n",
    "\n",
    "Um dos princípios fundamentais da física afirma: “Não se pode medir uma grandeza física com precisão absoluta”. Em outras palavras, qualquer medição, por mais cuidadosa que seja, é sempre aproximada [1]. Para trabalhar matematicamente com esses valores, é essencial conhecer o grau de confiança associado ao número obtido em representar a realidade. A incerteza em uma medida reflete justamente os limites tanto dos instrumentos, que nunca são perfeitamente precisos, quanto dos observadores, que nunca são absolutamente exatos [2].\n",
    "\n",
    "Nos cálculos científicos, a propagação dos erros experimentais é indispensável, pois as incertezas iniciais se acumulam e afetam diretamente o resultado final. Quantificar essa propagação permite avaliar a confiabilidade do valor obtido, fornecer um intervalo de confiança e, consequentemente, validar hipóteses e teorias. Nesse cenário, ferramentas computacionais – como o módulo uncertainties do Python – tornam-se particularmente relevantes, pois automatizam o tratamento matemático das incertezas e facilitam sua aplicação em dados experimentais [3].\n",
    "\n",
    "Assim, o objetivo deste trabalho é apresentar de forma didática o uso desse módulo, destacando sua aplicação no cálculo da propagação linear de erros."
   ]
  },
  {
   "cell_type": "code",
   "execution_count": null,
   "id": "6f9df318-5c39-4a88-8ad0-a3f0015bbdf0",
   "metadata": {},
   "outputs": [],
   "source": []
  },
  {
   "cell_type": "markdown",
   "id": "f012d890-cfd6-47d1-9e4a-eb7a653ab498",
   "metadata": {},
   "source": [
    "### Discussões e Conclusão"
   ]
  },
  {
   "cell_type": "markdown",
   "id": "1a364c5f-48c2-4b16-88a7-12aeac40b2ae",
   "metadata": {},
   "source": [
    "### Referências Bibliográficas\n",
    "\n",
    "1. FILHO, T.; ANDRELLO, A. Medição e propagação de erros 1 -Sistema de unidades padrão. [s.l: s.n.]. Disponível em: <http://www.leb.esalq.usp.br/leb/aulas/lce5702/medicao.pdf>.\n",
    "   \n",
    "2. Incerteza numa Medida Experimental. [s.l: s.n.]. Disponível em: <https://www.if.ufrj.br/~marta/introd-fis/unidade3-04-incertezaexperimental.pdf>.\n",
    "\n",
    "3. UNIDADE II -TEORIA DE ERROS. [s.l: s.n.]. Disponível em: <https://infi.ufms.br/files/2018/07/Aula-3-UNIDADE-II-TEORIA-DE-ERROS.pdf>.\n",
    "\n",
    "‌"
   ]
  },
  {
   "cell_type": "code",
   "execution_count": null,
   "id": "0d5aa41c-34ca-45bc-a20d-51cb9ca6149f",
   "metadata": {},
   "outputs": [],
   "source": []
  }
 ],
 "metadata": {
  "kernelspec": {
   "display_name": "ilumpy",
   "language": "python",
   "name": "ilumpy"
  },
  "language_info": {
   "codemirror_mode": {
    "name": "ipython",
    "version": 3
   },
   "file_extension": ".py",
   "mimetype": "text/x-python",
   "name": "python",
   "nbconvert_exporter": "python",
   "pygments_lexer": "ipython3",
   "version": "3.12.7"
  }
 },
 "nbformat": 4,
 "nbformat_minor": 5
}
