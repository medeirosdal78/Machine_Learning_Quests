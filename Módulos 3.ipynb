{
 "cells": [
  {
   "cell_type": "markdown",
   "id": "e6f717db-7cf6-4180-8969-06b0866f33b2",
   "metadata": {},
   "source": [
    "# Módulos 3: Definitivamente incerto\n",
    "\n",
    "**Nomes:** Bruna Guedes Pereira, Laura Medeiros Dal Ponte, Mariana Melo Pereira"
   ]
  },
  {
   "cell_type": "markdown",
   "id": "382b690a-962d-43fa-a6e1-b8ba16500007",
   "metadata": {},
   "source": [
    "## Introdução\n",
    "\n",
    "Um dos princípios fundamentais da física afirma: “Não se pode medir uma grandeza física com precisão absoluta”. Em outras palavras, qualquer medição, por mais cuidadosa que seja, é sempre aproximada [1]. Para trabalhar matematicamente com esses valores, é essencial conhecer o grau de confiança associado ao número obtido em representar a realidade. A incerteza em uma medida reflete justamente os limites tanto dos instrumentos, que nunca são perfeitamente precisos, quanto dos observadores, que nunca são absolutamente exatos [2].\n",
    "\n",
    "Nos cálculos científicos, a propagação dos erros experimentais é indispensável, pois as incertezas iniciais se acumulam e afetam diretamente o resultado final. Quantificar essa propagação permite avaliar a confiabilidade do valor obtido, fornecer um intervalo de confiança e, consequentemente, validar hipóteses e teorias. Nesse cenário, ferramentas computacionais – como o módulo uncertainties do Python – tornam-se particularmente relevantes, pois automatizam o tratamento matemático das incertezas e facilitam sua aplicação em dados experimentais [3].\n",
    "\n",
    "Assim, o objetivo deste trabalho é apresentar de forma didática o uso desse módulo, destacando sua aplicação no cálculo da propagação linear de erros. E, a seguir, uma breve contextualização \"divertida\" para ambientar e motivar os leitores a entender os fundamentos da análise realizada.\n",
    "\n",
    "### 🛡️ Os Patrulheiros Formidáveis e o Véu da Incerteza\n",
    "\n",
    "Na fronteira entre o mundo conhecido e o desconhecido, existe uma ordem secreta chamada **A Patrulha**. Seus membros, os **Patrulheiros Formidáveis**, abandonam suas identidades ao entrar na Guilda dos Escudeiros, cobrindo seus rostos e assumindo uma nova cor — vermelho, azul, amarelo, lilás ou salmão. A última cor, aliás, é motivo de debate eterno: seria salmão uma cor ou apenas um peixe?\n",
    "\n",
    "A Patrulha é encarregada de proteger os limites da realidade, onde os dados experimentais se tornam instáveis e as certezas se desfazem como névoa. Para isso, cada patrulheiro carrega um artefato sagrado: o **Medidor de Incertezas**, alimentado por um feitiço matemático conhecido como **`uncertainties`**.\n",
    "\n",
    "Esse feitiço permite que os patrulheiros lidem com grandezas físicas que não são exatas — como a massa de um cristal mágico ou a temperatura de uma fenda dimensional. Ao invés de confiar cegamente em um número, eles aprendem a trabalhar com **valores acompanhados de incertezas**, como se cada medida fosse uma sombra com contornos probabilísticos.\n",
    "\n",
    "Com o uso do módulo `uncertainties`, os patrulheiros podem:\n",
    "\n",
    "- **Somar e subtrair grandezas incertas**, sabendo que o erro se propaga como uma onda silenciosa.\n",
    "- **Multiplicar e dividir medidas**, entendendo que a incerteza cresce ou diminui conforme a operação.\n",
    "- **Aplicar funções matemáticas** como seno, logaritmo ou exponencial, e ainda assim manter o controle sobre o erro envolvido.\n",
    "\n",
    "Durante uma missão nas Ruínas de Sigma, os patrulheiros precisaram calcular a energia de um artefato instável. A medição da corrente e da tensão envolvia margens de erro, e foi com o poder do `uncertainties` que conseguiram prever o comportamento do sistema sem causar uma explosão dimensional.\n",
    "\n",
    "A Patrulha ensina que **não há ciência sem dúvida**, e que reconhecer a incerteza é sinal de sabedoria, não de fraqueza. O módulo `uncertainties` é mais do que uma ferramenta: é um lembrete de que todo dado carrega consigo um véu, e que atravessá-lo exige coragem, precisão e respeito pela complexidade do mundo.\n",
    "\n",
    "E assim, os Patrulheiros Formidáveis seguem em frente, rostos ocultos, cores vibrantes, protegendo a fronteira entre o que sabemos e o que ainda precisamos medir.\n",
    "\n",
    "### O módulo `uncertainties`\n",
    "\n",
    "O módulo `uncertanties` calcula as incertezas por meio da teoria da **Propagação de Erro Médio** linear. Trata-se de um procedimento padrão para estimar os desvios padrões dos resultados calculados. Ele oferece inumeras funções e ferramentas que possibilitam a otimização de cálculos com medidas considerando suas incertezas.\n",
    "\n",
    "### Propagação de Erro Médio Linear \n",
    "\n",
    "O **desvio padrão** mede a dispersividade dos dados - ou seja, quão distantes eles se encontram da média geral. Ele é a principal ferramenta que constituí as incertezas e propagações de erros em nossos cálculos. Uma grandeza geral (R) é calculada a partir de uma partição de outras medidas menores (como $X$ e $Y$), de tal modo que:\n",
    "\n",
    "$$\n",
    "\\frac{\\sigma_R}{R} = \\sqrt{\\left(\\frac{\\sigma_X}{X}\\right)^2 + \\left(\\frac{\\sigma_Y}{Y}\\right)^2}\n",
    "$$\n",
    "\n",
    "## 🧑‍💻 Vamos, então, para o Código Mágico?\n",
    "\n",
    "O Código Mágico, capaz de resolver o desafio proposto, será construído a partir da linguagem Python, em conjunto com a sua biblioteca `uncertainties`. O primeiro passo será, então, importar essa biblioteca para o nosso ambiente de programação."
   ]
  },
  {
   "cell_type": "code",
   "execution_count": null,
   "id": "6f9df318-5c39-4a88-8ad0-a3f0015bbdf0",
   "metadata": {},
   "outputs": [],
   "source": [
    "import uncertainties"
   ]
  },
  {
   "cell_type": "markdown",
   "id": "3c30f31d",
   "metadata": {},
   "source": [
    "\n",
    "### Calculando o desvio padrão e a variância\n",
    "\n",
    "Em diversas instâncias, frente a um conjunto de dados, a média por sí só não é um parâmetro suficiente para medirmos a tendência dos dados, pois os mesmos podem ser muitos dispersos um dos outros. Por isso, o desvio padrão e a variança são importantes ferramentas para analisar o comportamento dos nossos dados. \n",
    "Após calcular a média, medimos quanto os dados se dispersam da mesma, ou seja, os desvios. Vamos supor que temos as seguintes medidas:"
   ]
  },
  {
   "cell_type": "code",
   "execution_count": null,
   "id": "6883664a",
   "metadata": {},
   "outputs": [],
   "source": [
    "medidas = [3, 10, 7]"
   ]
  },
  {
   "cell_type": "markdown",
   "id": "995158e3",
   "metadata": {},
   "source": [
    "Calculamos a média aritmética a respeito delas:"
   ]
  },
  {
   "cell_type": "code",
   "execution_count": null,
   "id": "cb73af8b",
   "metadata": {},
   "outputs": [],
   "source": [
    "media_aritmética = (4+10+7)/3\n",
    "media_aritmética"
   ]
  },
  {
   "cell_type": "markdown",
   "id": "834ca99a",
   "metadata": {},
   "source": [
    "A seguir, calculamos os desvios - o quanto os dados se afastam da média calculada."
   ]
  },
  {
   "cell_type": "code",
   "execution_count": null,
   "id": "06606cd7",
   "metadata": {},
   "outputs": [],
   "source": [
    "desvio1 = 4 - media_aritmética\n",
    "desvio2 = 10 - media_aritmética\n",
    "desvio3 = 7 - media_aritmética\n",
    "\n",
    "desvio1, desvio2, desvio3"
   ]
  },
  {
   "cell_type": "markdown",
   "id": "09903f6d",
   "metadata": {},
   "source": [
    "A partir daqui, podemos calcular a nossa **variância**, que consiste em criar uma média desses desvios. Fazemos isso somando os desvios ao quadrado e dividindo-os pelo número de desvios, como em uma média. "
   ]
  },
  {
   "cell_type": "code",
   "execution_count": null,
   "id": "52e30c5c",
   "metadata": {},
   "outputs": [],
   "source": [
    "variancia = (desvio1**2 + desvio2**2 + desvio3**2)/3\n",
    "variancia"
   ]
  },
  {
   "cell_type": "markdown",
   "id": "b759dbbb",
   "metadata": {},
   "source": [
    "A partir disso, se tirarmos a raiz quadrada da nossa variância obtemos o nosso **desvio padrão**."
   ]
  },
  {
   "cell_type": "code",
   "execution_count": null,
   "id": "c4dcfd23",
   "metadata": {},
   "outputs": [],
   "source": [
    "dsv_pdr = (variancia)**0.5\n",
    "dsv_pdr "
   ]
  },
  {
   "cell_type": "markdown",
   "id": "376ee1a9",
   "metadata": {},
   "source": [
    "### Criação de variáveis: números com incertezas\n",
    "\n",
    "Como pré-requisito do uso da biblioteca, é necessário importarmos a função `ufloat()` para lidar com operações matemáticas envolvendo valores com incertezas."
   ]
  },
  {
   "cell_type": "code",
   "execution_count": null,
   "id": "a53186d0",
   "metadata": {},
   "outputs": [],
   "source": [
    "from uncertainties import ufloat"
   ]
  },
  {
   "cell_type": "markdown",
   "id": "cf929366",
   "metadata": {},
   "source": [
    "A função `ufloat()` permite criar variáveis de números com incertezas, um passo fundamental para realizarmos qualquer cálculo com a biblioteca. Ela toma como parâmetros um valor nominal, o desvio padrão e uma \"tag\" opcional, que serve para dar um rótulo a variável. Essencialmente, **essas variáveis juntam um valor nominal (resultado obtido em uma medição) e seu desvio padrão (dúvida sobre o valor) em uma única entidade**, o que otimiza algumas análises. "
   ]
  },
  {
   "cell_type": "code",
   "execution_count": null,
   "id": "b4908bbb",
   "metadata": {},
   "outputs": [],
   "source": [
    "x = ufloat(3.4, 0.1) ## (Medição de 3.4 com desvio padrão de 0.1)"
   ]
  },
  {
   "cell_type": "markdown",
   "id": "af62c482",
   "metadata": {},
   "source": [
    "É possível acessar ambos os valores separadamente com os atributos *nominal_value* e *std_dev*."
   ]
  },
  {
   "cell_type": "code",
   "execution_count": null,
   "id": "4bc2723a",
   "metadata": {},
   "outputs": [],
   "source": [
    "nominal = x.nominal_value\n",
    "std_dev = x.std_dev\n",
    "\n",
    "nominal, std_dev"
   ]
  },
  {
   "cell_type": "markdown",
   "id": "7ca78334",
   "metadata": {},
   "source": [
    "Outro método para criar uma variável com incertezas é a função `ufloat_fromstr()`, utilizada para formatar uma incerteza em string.\n",
    "\n",
    "### Operações básicas com Variáveis\n",
    "Como outros valores nominais do Python, podemos utilizar as variáveis criadas em operações básicas de matemática. Veja abaixo:"
   ]
  },
  {
   "cell_type": "code",
   "execution_count": null,
   "id": "392d7190",
   "metadata": {},
   "outputs": [],
   "source": [
    "x = ufloat(3.4, 0.1)\n",
    "duplicação = x*2\n",
    "duplicação"
   ]
  },
  {
   "cell_type": "code",
   "execution_count": null,
   "id": "a447d5fb",
   "metadata": {},
   "outputs": [],
   "source": [
    "x = ufloat(3.4, 0.1)\n",
    "divisão = x/2\n",
    "divisão"
   ]
  },
  {
   "cell_type": "markdown",
   "id": "c3a718ec",
   "metadata": {},
   "source": [
    "Podemos também somar as Variáveis. Ao fazer isso, caímos em uma **soma quadrática** - onde a nova incerteza é calculada pela soma dos quadrados das incertezas individuais, e posteriormente calculado sua raiz. É equivalente a equação: \n",
    "\n",
    "$$\\sigma_R = \\sqrt{\\sigma_X^2 + \\sigma_Y^2}$$\n",
    "\n",
    "Isso é extendido para o número de variáveis que são somadas."
   ]
  },
  {
   "cell_type": "code",
   "execution_count": null,
   "id": "78fcc3a8",
   "metadata": {},
   "outputs": [],
   "source": [
    "x = ufloat(3.4, 3)\n",
    "y = ufloat(2.5, 4)\n",
    "\n",
    "soma = x+y\n",
    "soma"
   ]
  },
  {
   "cell_type": "markdown",
   "id": "28bd96e6",
   "metadata": {},
   "source": [
    "Em operações de multiplicação e divisão, a nova incerteza é calculada pela fórmula da **incerteza realativa**, como mencionamos anteriormente: \n",
    "\n",
    "$$\n",
    "\\frac{\\sigma_R}{R} = \\sqrt{\\left(\\frac{\\sigma_X}{X}\\right)^2 + \\left(\\frac{\\sigma_Y}{Y}\\right)^2}\n",
    "$$"
   ]
  },
  {
   "cell_type": "code",
   "execution_count": null,
   "id": "b8ed08d2",
   "metadata": {},
   "outputs": [],
   "source": [
    "x = ufloat(3.4, 3)\n",
    "y = ufloat(2.5, 4)\n",
    "\n",
    "multiplicacao = x*y\n",
    "\n",
    "multiplicacao"
   ]
  },
  {
   "cell_type": "markdown",
   "id": "427bff76",
   "metadata": {},
   "source": [
    "### Outras operações matemáticas com Variáveis\n",
    "\n",
    "Além de possibilitar operações básicas com a função `ufloat()`, o `uncertainties` também vem acompanhado do módulo `uncertainties.umath`, que providencia funções generalizadas que realizam operações matemáticas como seno, expoente e raiz quadrada. Vamos dar uma olhada:"
   ]
  },
  {
   "cell_type": "code",
   "execution_count": null,
   "id": "cb1d7dc7",
   "metadata": {},
   "outputs": [],
   "source": [
    "from uncertainties.umath import sqrt, exp, log"
   ]
  },
  {
   "cell_type": "code",
   "execution_count": null,
   "id": "8fbf1e46",
   "metadata": {},
   "outputs": [],
   "source": [
    "x = ufloat(3.4, 3)\n",
    "\n",
    "raiz = sqrt(x)\n",
    "exponencial = exp(x)\n",
    "logaritimo = log(x)\n",
    "\n",
    "raiz, exponencial, logaritimo"
   ]
  },
  {
   "cell_type": "markdown",
   "id": "b864ba54",
   "metadata": {},
   "source": [
    "Assim como antes, a matemática utilizada para o cálculo do erro médio é diferente da dos valores nominais. A função `log`, por exemplo, aplica o logarítimo ao erro médio da seguinte forma: \n",
    "\n",
    "$$\\sigma _{f}\\approx a{\\frac {\\sigma _{A}}{A\\ln(10)}}$$\n",
    "\n",
    "Em suma, o módulo inclui as seguintes funções: **acos, acosh, asin, asinh, atan, atan2, atanh, ceil, copysign, cos, cosh, degrees, erf, erfc, exp, expm1, fabs, factorial, floor, fmod, frexp, fsum, gamma, hypot, isinf, isnan, ldexp, lgamma, log, log10, log1p, modf, pow, radians, sin, sinh, sqrt, tan, tanh, trunc**\n",
    "\n",
    "Note que essa biblioteca se comporta de forma parecida a biblioteca padrão de operadores matemáticos do Python, exceto que ela considera as peculiaridades a respeito do cálculo apropriado do desvio padrão mediante a essas operações. É importante ressaltar, entretanto, que **as variáveis de incerteza não são totalmente equivalentes a objetos do tipo `float`**. Cada variável é uma identidade estátistica definida, de tal modo que:"
   ]
  },
  {
   "cell_type": "code",
   "execution_count": null,
   "id": "b3a02e2b",
   "metadata": {},
   "outputs": [],
   "source": [
    "x = ufloat(3.4, 3)\n",
    "y = ufloat(3.4, 3)\n",
    "\n",
    "x == y"
   ]
  },
  {
   "cell_type": "markdown",
   "id": "65270da1",
   "metadata": {},
   "source": [
    "Para considerar que duas variáveis de incerteza são iguais, o `uncertainties` toma como evidência o fato de que a subtração entre duas variáveis X e Y dão como resultado um valor nominal 0 e uma incerteza igual a 0, e não simplesmente se ambos os valores são iguais entre elas.\n",
    "\n",
    "Da mesma forma, comparar magnitudes entre variáveis com incertezas não é um trabalho tão trivial. Considerar somente o valor nominal nem sempre é suficiente, uma vez que a incerteza altera os limites máximos dos intervalos daquela medida. Sendo uma medida mais precisa, ela pode ser considerada de maior magnitude que outra, mesmo que seu valor nominal seja menor."
   ]
  },
  {
   "cell_type": "code",
   "execution_count": null,
   "id": "46df1b1b",
   "metadata": {},
   "outputs": [],
   "source": [
    "x = ufloat(10, 8)\n",
    "y = ufloat(9, 0.1)\n",
    "\n",
    "x > y"
   ]
  },
  {
   "cell_type": "markdown",
   "id": "66d70def",
   "metadata": {},
   "source": [
    "### Identificando fontes individuais de incertezas\n",
    "\n",
    "A incerteza total em uma medida depende da contribuição das incertezas de outras variáveis independentes. Como vimos anteriormente, a soma do quadrado das incertezas de outras componentes constituem a incerteza final de uma grandeza maior. Podemos identificar essas contribuições pela função `error_components()`. Abaixo, temos um exemplo retirado da própria documentação da biblioteca:"
   ]
  },
  {
   "cell_type": "code",
   "execution_count": null,
   "id": "760255ca",
   "metadata": {},
   "outputs": [],
   "source": [
    "u = ufloat(1, 0.1, \"u variable\") \n",
    "v = ufloat(10, 0.1, \"v variable\")\n",
    "sum_value = u+2*v\n",
    "print(sum_value)\n",
    "\n",
    "for (var, error) in sum_value.error_components().items():\n",
    "    print(\"{}: {}\".format(var.tag, error))"
   ]
  },
  {
   "cell_type": "markdown",
   "id": "91ebde8c",
   "metadata": {},
   "source": [
    "Como vemos acima, v é uma contribuinte maior para a incerteza final do que u. Identificar a fonte de suas incertezas pode ser útil na otimização de medições que demonstram necessitar de um tratamento melhor."
   ]
  },
  {
   "cell_type": "markdown",
   "id": "f012d890-cfd6-47d1-9e4a-eb7a653ab498",
   "metadata": {},
   "source": [
    "## Resultados e Discussão\n",
    "Os resultados obtidos ao longo do notebook demonstram a eficácia do módulo `uncertainties` na propagação linear de erros, especialmente em situações envolvendo operações matemáticas com variáveis incertas. Através de exemplos práticos, foi possível observar como o módulo automatiza o cálculo das incertezas associadas a funções compostas, respeitando as regras da derivação parcial. Essa abordagem não apenas reduz o risco de erros manuais, como também torna o processo mais transparente e reprodutível. A comparação entre os valores com e sem incerteza evidenciou a importância de considerar essas variações em análises experimentais, reforçando o papel do módulo como uma ferramenta indispensável para cientistas que lidam com dados reais.\n",
    "\n",
    "## Conclusões\n",
    "A realização deste notebook permitiu explorar de forma clara e acessível os princípios fundamentais do módulo `uncertainties`, uma ferramenta essencial para a propagação linear de erros em dados experimentais. Ao integrar exemplos práticos com a matemática por trás dos cálculos de incerteza, o material oferece uma base sólida para estudantes e pesquisadores que desejam compreender e aplicar esse recurso em suas análises. Assim, o notebook não apenas cumpre seu papel didático, mas também destaca a importância da quantificação rigorosa das incertezas na construção de resultados científicos confiáveis.\n"
   ]
  },
  {
   "cell_type": "markdown",
   "id": "1a364c5f-48c2-4b16-88a7-12aeac40b2ae",
   "metadata": {},
   "source": [
    "## Referências Bibliográficas\n",
    "\n",
    "1. FILHO, T.; ANDRELLO, A. Medição e propagação de erros 1 -Sistema de unidades padrão. [s.l: s.n.]. Disponível em: <http://www.leb.esalq.usp.br/leb/aulas/lce5702/medicao.pdf>. Acesso em: 18 set. 2025.\n",
    "   \n",
    "2. Incerteza numa Medida Experimental. [s.l: s.n.]. Disponível em: <https://www.if.ufrj.br/~marta/introd-fis/unidade3-04-incertezaexperimental.pdf>. Acesso em: 18 set. 2025.\n",
    "\n",
    "3. UNIDADE II -TEORIA DE ERROS. [s.l: s.n.]. Disponível em: <https://infi.ufms.br/files/2018/07/Aula-3-UNIDADE-II-TEORIA-DE-ERROS.pdf>. Acesso em: 18 set. 2025.\n",
    "\n",
    "4. Propagation of uncertainty. Disponível em: <https://en.wikipedia.org/wiki/Propagation_of_uncertainty>. Acesso em: 18 set. 2025.\n",
    "\n",
    "5. User Guide — uncertainties. Disponível em: <https://uncertainties.readthedocs.io/en/latest/user_guide.html#basic-usage>. Acesso em: 18 set. 2025.\n",
    "\n",
    "6. O que é: Propagação De Erros. Disponível em: <https://estatisticafacil.org/glossario/o-que-e-propagacao-de-erros/>. Acesso em: 18 set. 2025.\n",
    "\n",
    "7. CÉSAR, P. Desvio Padrão: Conceito, Cálculo e Aplicações Práticas - DataGeeks. Disponível em: <https://www.datageeks.com.br/desvio-padrao/>. Acesso em: 18 set. 2025.\n",
    "\n",
    "8. APRENDENDO GESTÃO. Desvio Padrão: o que é e como calcular (manualmente / Excel). Disponível em: <https://www.youtube.com/watch?v=uEhnNSa4MP8>.‌ Acesso em: 18 set. 2025.\n",
    "\n",
    "9. Guia do usuário sobre o módulo `uncertainties`: <https://uncertainties.readthedocs.io/en/latest/user_guide.html#basic-usage>. Acesso em: 18 set. 2025.\n",
    "\n",
    "10. “Propagation of Uncertainty.” Disponível em: en.wikipedia.org/wiki/Propagation_of_uncertainty. Acesso em: 18 set. 2025.\n",
    "\n",
    "11. “O Que é: Propagação de Erros.” APRENDER ESTATÍSTICA FÁCIL, 2024. Disponível em: estatisticafacil.org/glossario/o-que-e-propagacao-de-erros/. Acesso em: 18 set. 2025.\n",
    "\n",
    "12. César, Pedro. “Desvio Padrão: Conceito, Cálculo E Aplicações Práticas - DataGeeks.” DataGeeks. Disponível em: www.datageeks.com.br/desvio-padrao/. Acesso em: 18 set. 2025."
   ]
  },
  {
   "cell_type": "markdown",
   "id": "96401015",
   "metadata": {},
   "source": [
    "## Uso de Inteligência Artificial\n",
    "\n",
    "O modelo Microsoft Copilot foi utilizado especificamente para criar a história inicial no estilo RPG e para revisar os textos de desenvolvimento dos exercícios, ajudando a detalhar o passo a passo seguido para guiar melhor o leitor. As perguntas realizadas à IA foram no estilo: *\"Escrevi o seguinte texto: ... Como posso melhorá-lo para guiar o leitor passo a passo, mostrando de maneira clara minha resolução?\"*."
   ]
  }
 ],
 "metadata": {
  "kernelspec": {
   "display_name": "ilumpy",
   "language": "python",
   "name": "ilumpy"
  },
  "language_info": {
   "codemirror_mode": {
    "name": "ipython",
    "version": 3
   },
   "file_extension": ".py",
   "mimetype": "text/x-python",
   "name": "python",
   "nbconvert_exporter": "python",
   "pygments_lexer": "ipython3",
   "version": "3.12.7"
  }
 },
 "nbformat": 4,
 "nbformat_minor": 5
}
