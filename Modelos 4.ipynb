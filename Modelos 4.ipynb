{
 "cells": [
  {
   "cell_type": "markdown",
   "id": "63e1d7d7-266a-4950-9357-8e19611a5a86",
   "metadata": {},
   "source": [
    "# Modelos 4: Tentando algo diferente\n",
    "**Nomes**: Bruna Guedes Pereira, Laura Medeiros Dal Ponte, Mariana Melo Pereira"
   ]
  },
  {
   "cell_type": "markdown",
   "id": "35829ffe-d391-4d1f-b008-4b102aeecb5c",
   "metadata": {},
   "source": [
    "## Introdução\n",
    "\n",
    "O aprendizado de máquina consolidou-se como uma das ferramentas mais influentes da ciência contemporânea, permitindo que dados complexos promovam decisões automatizadas. Dentro desse campo, os algoritmos de classificação ocupam papel central, pois possibilitam identificar padrões e organizar informações em categorias de forma precisa e eficiente.\n",
    "\n",
    "Métodos clássicos como Support Vector Machine (SVM), Naive Bayes e Discriminant Analysis possuem relevância histórica na resolução de problemas de classificação, sendo ainda muito utilizados em diversos experimentos científicos. Explorar o funcionamento interno desses algoritmos, compreendendo suas bases matemáticas e avaliando seu desempenho em conjuntos de dados reais, é um exercício essencial de formação acadêmica.\n",
    "\n",
    "Dessa forma, o presente trabalho dedica-se a investigar o algoritmo Naive Bayes, implementá-lo de maneira didática e comparar seus resultados a um modelo de referência. Trata-se de uma família diversa de algoritmos, sendo dividida em três tipos: Gaussian Naive Bayes; Multinomial Naive Bayes e Bernoulli Naive Bayes. Aqui, focaremos apenas no Gaussian Naive Bayes, discutindo sua lógica e seu desempenho.\n",
    "\n",
    "\n",
    "A seguir, uma breve contextualização \"divertida\" para ambientar e motivar os leitores a entender os fundamentos da análise realizada.\n",
    "\n",
    "### 🎼 **Ricardo e a Harmonia das Fronteiras: A Balada de Bayes**\n",
    "\n",
    "Ricardo nasceu em uma linhagem de cavaleiros honrados, treinado desde cedo para empunhar espadas e proteger reinos. Mas seu coração sempre bateu em outro ritmo — o das melodias. Inspirado pelas apresentações da Senhorita Creizuda e da Alfaiate Ligeirinha, ele sonhava em ser um **bardo**, em transformar sentimentos em canções e tocar almas com acordes sinceros.\n",
    "\n",
    "Mesmo preso às expectativas de sua família, Ricardo nunca abandonou sua paixão. Nas noites calmas, ele se refugia na **Floresta Solitária**, onde canta sobre um amor que nunca desiste, nunca desilude, nunca fere. Suas canções ecoam como promessas à vida que deseja, mas que não pode viver por completo.\n",
    "\n",
    "Foi em uma dessas noites que Ricardo encontrou um antigo manuscrito escondido sob uma raiz de árvore. Nele, estava descrito um algoritmo ancestral, usado por magos analíticos para **decifrar padrões ocultos com surpreendente simplicidade**: o **Naive Bayes**.\n",
    "\n",
    "Ricardo aprendeu que o Naive Bayes é como um contador de histórias que confia em probabilidades para prever o rumo dos acontecimentos. Ele parte de uma suposição ousada — que cada característica de um dado é **independente das demais**, como notas que soam separadas, mas que juntas formam uma melodia coerente.\n",
    "\n",
    "A cada nova observação, o algoritmo calcula a **probabilidade de pertencimento a cada classe**, como se perguntasse: “Qual é a chance de esta canção pertencer ao repertório da esperança, ou ao da saudade?” E mesmo com sua simplicidade, o Naive Bayes surpreende pela eficiência, especialmente quando os dados são vastos e as palavras são muitas — como em cartas, poemas ou canções.\n",
    "\n",
    "Ricardo treinou um modelo Naive Bayes com dados reais, comparando seu desempenho com o de um classificador mais ingênuo. E descobriu que, como em suas baladas, **a beleza pode estar na simplicidade**, e que mesmo suposições aparentemente ingênuas podem revelar verdades profundas.\n",
    "\n",
    "Mesmo que nunca possa ser um bardo aos olhos do mundo, Ricardo sabe que, com cada linha de código e cada nota tocada ao luar, ele está escrevendo sua própria balada — uma que fala de coragem, de aprendizado, e de nunca desistir daquilo que faz o coração vibrar.\n",
    "\n",
    "### O algoritmo Gaussian Naive Bayes\n",
    "\n",
    "O classificador Naive Bayes (NB) prevê dados baseando-se no Teorema de Bayes. Ele calcula a *probabilidade a posteriori* de cada uma das classes dado os features escolhidos, atribuindo os dados a classe (rótulo) com maior *probabilidade a posteriori*. O Teorema de Bayes é uma fórmula da probabilidade condicional que considere a probabilidade de um evento $A$ ocorrer dado que um evento $B$ ocorreu. Ela é escrita da seguinte forma: \n",
    "$$\n",
    "P(A | B) = \\frac{P(A) P(B | A).}{P(B)}.\n",
    "$$\n",
    "Onde $P(A)$ é a probabilidade inicial; $P(B|A)$ é a verossimilhança (probabilidade de $A$ dado que $B$ ocorreu); $P(B)$ é a probabilidade individual (também chamada de evidência); e $P(A|B)$ é a probabilidade a posteriori.\n",
    "\n",
    "\"Naive\" quer dizer literalmente \"Ingênuo\", devido a lógica simplista do algoritmo ao assumir que todas as features são condicionalmente independentes umas das outras. Desse modo, cada observação serve como uma evidência independente no cálculo da probabilidade final de uma classe. Por exemplo: ele pode considerar que duas probabilidades são independentes uma da outra, quando na verdade elas podem estar correlacionadas. Apesar disso, essa simplificação resulta em bons resultados. Ele também atribui ás features numéricas uma Distribuição Gaussiana (ou Distribuição Normal), que sera melhor evidenciada mais adiante. \n",
    "\n",
    "## 🧑‍💻 Vamos, então, para o Código Mágico?\n",
    "\n",
    "O Código Mágico, capaz de resolver o desafio proposto, será construído a partir da linguagem Python, em conjunto com as suas bibliotecas `scikit-learn`, `pandas`, `scipy` e `statistics`. O primeiro passo será, então, importar essas bibliotecas para o nosso ambiente de programação."
   ]
  },
  {
   "cell_type": "markdown",
   "id": "569f3781",
   "metadata": {},
   "source": [
    "### Importação das bibliotecas"
   ]
  },
  {
   "cell_type": "code",
   "execution_count": null,
   "id": "266dd07f",
   "metadata": {
    "vscode": {
     "languageId": "plaintext"
    }
   },
   "outputs": [],
   "source": [
    "import pandas as pd\n",
    "from sklearn.model_selection import train_test_split\n",
    "from sklearn.naive_bayes import GaussianNB\n",
    "from sklearn.neighbors import KNeighborsClassifier\n",
    "from sklearn.metrics import accuracy_score\n",
    "from scipy.stats import norm\n",
    "import statistics as st"
   ]
  },
  {
   "cell_type": "markdown",
   "id": "bd417e24",
   "metadata": {},
   "source": [
    "Como pré-requisito, o Naive Bayes é projetado para trabalhar com valores contínuos e distribuídos normalmente. Também devemos checar se as features de nosso DataSet são mesmo independentes umas das outras. Para essa demonstração, vamos utilizar o DataSet didático `IRIS`. Ele é um conjunto de dados simples, com quatro dados contínuos (largura e comprimento da sépala e largura e comprimento da pétala) e um dado categórico (nome da espécie). "
   ]
  },
  {
   "cell_type": "code",
   "execution_count": null,
   "id": "5497cd81",
   "metadata": {
    "vscode": {
     "languageId": "plaintext"
    }
   },
   "outputs": [],
   "source": [
    "df = pd.read_csv(\"IRIS.csv\")\n",
    "df"
   ]
  },
  {
   "cell_type": "markdown",
   "id": "448fc332",
   "metadata": {},
   "source": [
    "A primeira coisa que o algoritmo faz é calcular as médias ($μ$) e os desvios padrões ($σ$) de cada feature dentro das três classes. Abaixo, temos uma função que demonstra de forma mais visual como isso funciona:"
   ]
  },
  {
   "cell_type": "code",
   "execution_count": null,
   "id": "300039c2",
   "metadata": {
    "vscode": {
     "languageId": "plaintext"
    }
   },
   "outputs": [],
   "source": [
    "def dados(df, coluna_classe):\n",
    "\n",
    "    groupby = df.groupby(coluna_classe)\n",
    "    media = groupby.mean()\n",
    "    dsvp = groupby.std()\n",
    "\n",
    "    return media, dsvp\n",
    "\n",
    "dados(df, \"species\")"
   ]
  },
  {
   "cell_type": "markdown",
   "id": "7fec4c99",
   "metadata": {},
   "source": [
    "Como consta no nome do algoritmo, também podemos atribuir uma **curva gaussiana** que representa a distribuição gaussiana de cada um dos features. O algoritmo usa uma função de densidade de probabilidade (PDF), que é dada por: \n",
    "\n",
    "$$\n",
    "f(x) = \\frac{1}{\\sqrt{2 \\pi \\sigma}} \\; e^{-\\frac{(x-\\mu)^2}{2\\sigma^2}}\n",
    "$$\n",
    "\n",
    "Tendo isso em mente, podemos comparar as curvas gaussianas que obtemos de cada média e desvio padrão resultante dos tributos. Abaixo, temos uma visualização do gráfico com as distribuições gaussianas referentes ao comprimento da pétala de cada uma das três espécies:"
   ]
  },
  {
   "cell_type": "code",
   "execution_count": null,
   "id": "47a4bd8f",
   "metadata": {
    "vscode": {
     "languageId": "plaintext"
    }
   },
   "outputs": [],
   "source": [
    "media1 = 1.464 \n",
    "media2 = 5.552\n",
    "media3 = 4.260\n",
    "desvio1 = 0.173511\n",
    "desvio2 = 0.551895 \n",
    "desvio3 = 0.469911\n",
    "\n",
    "\n",
    "x =  np.linspace(media1 - 4*desvio1, media2 + 4*desvio2)\n",
    "\n",
    "y1 = norm.pdf(x, media1, desvio1)\n",
    "y2 = norm.pdf(x, media2, desvio2)\n",
    "y3 = norm.pdf(x, media3, desvio3)\n",
    "\n",
    "plt.plot(x, y1)\n",
    "plt.plot(x, y2)\n",
    "plt.plot(x, y3)"
   ]
  },
  {
   "cell_type": "markdown",
   "id": "c08c7043",
   "metadata": {},
   "source": [
    "De forma simples, o algoritmo armazena esses dados para obter as curvas gaussianas. Ao deparar-se com dados novos, o mesmo aplica o Teorema de Bayes para atribuir rótulos. A partir do nosso dataset, podemos atribuir a seguinte lógica:\n",
    "\n",
    "- P(A|B) é a probabilidade de que uma flor seja de uma espécie A, dado que as medidas de sépala e pétala coincidem com uma outra espécie B.\n",
    "- P(A) é a probabilidade inicial de que essa flor seja da espécie A (sem nenhuma medida)\n",
    "- P(B|A) é a verossimilhança; a probabilidade de que a flor tenha medidas de outra espécie B dado que ela já é uma flor da espécie A.\n",
    "- P(B) é a probabilidade de que essas medidas estejam presentes em outras espécies de flor \n",
    "\n",
    "A probabilidade inicial parte de dados do próprio dataset; por exemplo, considerando que temos, ao todo, 150 flores para 3 espécies, e que cada espécie possui uma distribuição igual, cada uma possuí probabilidade inicial correspondente a ~33%. A partir disso, o algoritmo calcula a verossimilhança (P(A|B)). Devido a suposição *Naive*, ele a calcula multiplicando as quatro probabilidades iniciais. Por fim, ele utiliza o Teorema de Bayes para juntar a verossimilhança com a probabilidade inicial (que contêm nossa suposição da espécie). A maior probabilidade a posteriori é, portanto, considerada.\n",
    "\n",
    "### Exemplo de classificação\n",
    "\n",
    "A partir dos dados em nosso DataFrame, vamos prever uma certa amostra de dados, considerando a lógica mencionada acima:"
   ]
  },
  {
   "cell_type": "code",
   "execution_count": null,
   "id": "97bc0d02",
   "metadata": {
    "vscode": {
     "languageId": "plaintext"
    }
   },
   "outputs": [],
   "source": [
    "X = df.drop([\"species\"], axis=1)\n",
    "y = df[\"species\"]\n",
    "\n",
    "gnb = GaussianNB()\n",
    "\n",
    "X_train, X_test, y_train, y_test = train_test_split(X, y, test_size = 0.3)\n",
    "\n",
    "gnb.fit(X_train, y_train)\n",
    "\n",
    "y_previsto = gnb.predict(X_test)\n",
    "\n",
    "y_previsto"
   ]
  },
  {
   "cell_type": "markdown",
   "id": "75eb44f3",
   "metadata": {},
   "source": [
    "### Exemplo com um dado novo\n",
    "\n",
    "Supondo que obtemos informações sobre uma nova flor misteriosa, como será que o nosso algoritmo se comporta?"
   ]
  },
  {
   "cell_type": "code",
   "execution_count": null,
   "id": "28ddc97d",
   "metadata": {
    "vscode": {
     "languageId": "plaintext"
    }
   },
   "outputs": [],
   "source": [
    "X = df.drop([\"species\"], axis=1)\n",
    "y = df[\"species\"]\n",
    "\n",
    "gnb = GaussianNB()\n",
    "\n",
    "X_train, X_test, y_train, y_test = train_test_split(X, y, test_size = 0.3)\n",
    "\n",
    "gnb.fit(X_train, y_train)\n",
    "\n",
    "novos_valores = [6.1, 3.0, 4.9, 1.8]\n",
    "\n",
    "amostra_nova = pd.DataFrame([novos_valores], columns=X.columns)\n",
    "\n",
    "y_previsto = gnb.predict(X_test)\n",
    "\n",
    "y_previsto[0] ## Como ele retorna um array"
   ]
  },
  {
   "cell_type": "markdown",
   "id": "c565d62c",
   "metadata": {},
   "source": [
    "### A wild baseline appears!\n",
    "\n",
    "Agora que conseguimos prever nossos dados com o classificador Gaussian NB, vamos realizar uma previsão com um algoritmo baseline e comparar seu desempenho com o nosso algoritmo. O algoritmo K-NN é um classificador baseline que prevê dados baseados no princípio de que semelhantes encontram-se próximos, tomando como parâmetros um número K de vizinhos (a quantidade de dados próximos que consideramos). "
   ]
  },
  {
   "cell_type": "code",
   "execution_count": null,
   "id": "dec612b4",
   "metadata": {
    "vscode": {
     "languageId": "plaintext"
    }
   },
   "outputs": [],
   "source": [
    "X = df[[\"sepal_length\",\"sepal_width\",\"petal_length\"]] #Features\n",
    "y = df[[\"species\"]] #Target\n",
    "\n",
    "## 1) Instanciar o modelo usando o algoritmo K-NN com o número de vizinhos desejados\n",
    "modelo_knn = KNeighborsClassifier(n_neighbors=20)\n",
    "\n",
    "## 2) Separar os dados em teste e treino\n",
    "X_treino, X_teste, y_treino, y_teste = train_test_split(X, y, test_size=0.3)\n",
    "\n",
    "## 3) Treinar os dados\n",
    "modelo_knn.fit(X_treino, y_treino)\n",
    "\n",
    "## 4) Avaliação do modelo\n",
    "previsao_y = modelo_knn.predict(X_teste)\n",
    "previsao_y"
   ]
  },
  {
   "cell_type": "markdown",
   "id": "91a65ed0",
   "metadata": {},
   "source": [
    "### Computando o desempenho\n",
    "\n",
    "Para fins de curiosidade, vamos comparar o desempenho entre esses dois algoritmos. A função `acuraccy_score` do `scikit-learn` calcula a acurácia das previsões do algoritmo, ou seja, quão eficaz ele é em prever y que são exatamente o y verdadeiro."
   ]
  },
  {
   "cell_type": "code",
   "execution_count": null,
   "id": "6d987152",
   "metadata": {
    "vscode": {
     "languageId": "plaintext"
    }
   },
   "outputs": [],
   "source": [
    "acuracia_knn = accuracy_score(y_teste, y_previsto)\n",
    "acuracia_knn"
   ]
  },
  {
   "cell_type": "code",
   "execution_count": null,
   "id": "f1b324db",
   "metadata": {
    "vscode": {
     "languageId": "plaintext"
    }
   },
   "outputs": [],
   "source": [
    "acuracia = accuracy_score(y_test, y_previsto)\n",
    "acuracia"
   ]
  },
  {
   "cell_type": "markdown",
   "id": "ed47d434-5af3-4e19-bb20-35e183936999",
   "metadata": {},
   "source": [
    "## Resultados e Discussões\n",
    "\n",
    "Ao aplicar o algoritmo Naive Bayes em um conjunto de dados real, foi possível observar seu desempenho em comparação com um classificador baseline, revelando aspectos importantes sobre sua capacidade de generalização e sensibilidade às características dos dados. Os resultados mostraram que, embora o modelo baseline ofereça uma referência útil, o algoritmo estudado apresentou maior precisão e melhor separação entre as classes, especialmente em cenários com dados bem distribuídos. Essa análise reforça a importância de entender o funcionamento interno dos algoritmos para fazer escolhas mais informadas em projetos de aprendizado de máquina."
   ]
  },
  {
   "cell_type": "markdown",
   "id": "e297e6b7",
   "metadata": {},
   "source": [
    "## Conclusões\n",
    "\n",
    "Este notebook teve como objetivo compreender e aplicar de forma didática um algoritmo de classificação supervisionada, destacando sua fundamentação teórica. Ao induzir um modelo com o algoritmo escolhido e compará-lo com um classificador baseline, foi possível avaliar seu desempenho e entender suas vantagens e limitações em cenários reais. Percebe-se que, ao comparar o desempenho do algoritmo Gaussian Naive Bayes com o desempenho de um algoritmo baseline como o K-NN, obteu-se que a acurácia referente ao nosso Gaussian NB é significantemente maior do que a do KNN. Apesar da lógica simplificada do Gaussian Naive Bayes, ele demonstra-se muito eficiente em realizar previsões bastante próximas a realidade, o que o diferencia de um algoritmo categórico de baseline. Assim, o material contribui para o desenvolvimento de uma habilidade essencial: a capacidade de estudar e aplicar algoritmos não abordados diretamente em sala de aula.\n"
   ]
  },
  {
   "cell_type": "markdown",
   "id": "e21562de-ace4-4012-94d2-69fda8353026",
   "metadata": {},
   "source": [
    "## Referências Bibliográficas\n",
    "1. IBM. Máquina de vetores de suporte. Disponível em: <https://www.ibm.com/br-pt/think/topics/support-vector-machine>.\n",
    "2. OPENAI. ChatGPT. São Francisco: OpenAI, 2025. Disponível em: <https://chat.openai.com/>. Acesso em: 10 set. 2025.\n",
    "3. WHYAMIT404. Creating a Gaussian Distribution with NumPy. Disponível em: <https://medium.com/@whyamit404/creating-a-gaussian-distribution-with-numpy-dc810d931ee0>. Acesso em: 29 set. 2025.\n",
    "4. RYAN & MATT DATA SCIENCE. Naive Bayes Classifier: A Practical Tutorial with Scikit-Learn. Disponível em: <https://www.youtube.com/watch?v=T6OxPncD7_w>.\n",
    "5. RYAN & MATT DATA SCIENCE. Normal Distribution in Python: A Beginner’s Guide with Scipy & Numpy. Disponível em: <https://www.youtube.com/watch?v=_Q-CAxnd69U>. Acesso em: 29 set. 2025.\n",
    "6. Fit Normal Distribution Object. Disponível em: <https://www.mathworks.com/help/stats/normal-distribution.html>."
   ]
  },
  {
   "cell_type": "markdown",
   "id": "a4920f98",
   "metadata": {},
   "source": [
    "## Uso de Inteligência Artificial\n",
    "\n",
    "O modelo Microsoft Copilot foi utilizado especificamente para criar a história inicial no estilo RPG e para revisar os textos de desenvolvimento dos exercícios, ajudando a detalhar o passo a passo seguido para guiar melhor o leitor. As perguntas realizadas à IA foram no estilo: *\"Escrevi o seguinte texto: ... Como posso melhorá-lo para guiar o leitor passo a passo, mostrando de maneira clara minha resolução?\"*."
   ]
  }
 ],
 "metadata": {
  "kernelspec": {
   "display_name": "ilumpy",
   "language": "python",
   "name": "ilumpy"
  },
  "language_info": {
   "codemirror_mode": {
    "name": "ipython",
    "version": 3
   },
   "file_extension": ".py",
   "mimetype": "text/x-python",
   "name": "python",
   "nbconvert_exporter": "python",
   "pygments_lexer": "ipython3",
   "version": "3.12.7"
  }
 },
 "nbformat": 4,
 "nbformat_minor": 5
}
