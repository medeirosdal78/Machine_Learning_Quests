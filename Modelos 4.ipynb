{
 "cells": [
  {
   "cell_type": "markdown",
   "id": "63e1d7d7-266a-4950-9357-8e19611a5a86",
   "metadata": {},
   "source": [
    "# Aprendizado de Máquina\n",
    "**Aluna**: _Bruna Guedes Pereira, Laura Medeiros Dal Ponte, Mariana Melo Pereira_"
   ]
  },
  {
   "cell_type": "markdown",
   "id": "bcb81762-a0f9-46f7-acf7-c81b69a82edd",
   "metadata": {},
   "source": [
    "## Tentando algo diferente"
   ]
  },
  {
   "cell_type": "markdown",
   "id": "f2c6ebbd-67b8-4b9d-9d49-4988766721ba",
   "metadata": {},
   "source": [
    "_Modelos 4_"
   ]
  },
  {
   "cell_type": "markdown",
   "id": "35829ffe-d391-4d1f-b008-4b102aeecb5c",
   "metadata": {},
   "source": [
    "### Introdução\n",
    "\n",
    "O aprendizado de máquina consolidou-se como uma das ferramentas mais influentes da ciência contemporânea, permitindo que dados complexos promovam decisões automatizadas. Dentro desse campo, os algoritmos de classificação ocupam papel central, pois possibilitam identificar padrões e organizar informações em categorias de forma precisa e eficiente.\n",
    "\n",
    "Métodos clássicos como Support Vector Machine (SVM), Naive Bayes e Discriminant Analysis possuem relevância histórica na resolução de problemas de classificação, sendo ainda muito utilizados em diversos experimentos científicos. Explorar o funcionamento interno desses algoritmos, compreendendo suas bases matemáticas e avaliando seu desempenho em conjuntos de dados reais, é um exercício essencial de formação acadêmica.\n",
    "\n",
    "Dessa forma, o presente trabalho dedica-se a investigar o algoritmos ------------, implementá-lo de maneira didática e comparar seus resultados a um modelo de referência."
   ]
  },
  {
   "cell_type": "markdown",
   "id": "ed47d434-5af3-4e19-bb20-35e183936999",
   "metadata": {},
   "source": [
    "### Discussões e conclusão"
   ]
  },
  {
   "cell_type": "markdown",
   "id": "e21562de-ace4-4012-94d2-69fda8353026",
   "metadata": {},
   "source": [
    "### Referências Bibliográficas\n",
    "1. IBM. Máquina de vetores de suporte. Disponível em: <https://www.ibm.com/br-pt/think/topics/support-vector-machine>.\n",
    "2. OPENAI. ChatGPT. São Francisco: OpenAI, 2025. Disponível em: <https://chat.openai.com/>. Acesso em: 10 set. 2025."
   ]
  },
  {
   "cell_type": "code",
   "execution_count": null,
   "id": "24b7fb5e-5a84-4894-8fc2-9906edf8206f",
   "metadata": {},
   "outputs": [],
   "source": []
  }
 ],
 "metadata": {
  "kernelspec": {
   "display_name": "ilumpy",
   "language": "python",
   "name": "ilumpy"
  },
  "language_info": {
   "codemirror_mode": {
    "name": "ipython",
    "version": 3
   },
   "file_extension": ".py",
   "mimetype": "text/x-python",
   "name": "python",
   "nbconvert_exporter": "python",
   "pygments_lexer": "ipython3",
   "version": "3.12.7"
  }
 },
 "nbformat": 4,
 "nbformat_minor": 5
}
