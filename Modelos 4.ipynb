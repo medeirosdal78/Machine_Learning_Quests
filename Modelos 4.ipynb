{
 "cells": [
  {
   "cell_type": "markdown",
   "id": "63e1d7d7-266a-4950-9357-8e19611a5a86",
   "metadata": {},
   "source": [
    "# Modelos 4: Tentando algo diferente\n",
    "**Nomes**: Bruna Guedes Pereira, Laura Medeiros Dal Ponte, Mariana Melo Pereira"
   ]
  },
  {
   "cell_type": "markdown",
   "id": "35829ffe-d391-4d1f-b008-4b102aeecb5c",
   "metadata": {},
   "source": [
    "## Introdução\n",
    "\n",
    "O aprendizado de máquina consolidou-se como uma das ferramentas mais influentes da ciência contemporânea, permitindo que dados complexos promovam decisões automatizadas. Dentro desse campo, os algoritmos de classificação ocupam papel central, pois possibilitam identificar padrões e organizar informações em categorias de forma precisa e eficiente.\n",
    "\n",
    "Métodos clássicos como Support Vector Machine (SVM), Naive Bayes e Discriminant Analysis possuem relevância histórica na resolução de problemas de classificação, sendo ainda muito utilizados em diversos experimentos científicos. Explorar o funcionamento interno desses algoritmos, compreendendo suas bases matemáticas e avaliando seu desempenho em conjuntos de dados reais, é um exercício essencial de formação acadêmica.\n",
    "\n",
    "Dessa forma, o presente trabalho dedica-se a investigar o algoritmos ------------, implementá-lo de maneira didática e comparar seus resultados a um modelo de referência."
   ]
  },
  {
   "cell_type": "markdown",
   "id": "ed47d434-5af3-4e19-bb20-35e183936999",
   "metadata": {},
   "source": [
    "## Resultados e Discussões\n",
    "\n",
    "Ao aplicar o algoritmo escolhido em um conjunto de dados real, foi possível observar seu desempenho em comparação com um classificador baseline, revelando aspectos importantes sobre sua capacidade de generalização e sensibilidade às características dos dados. A implementação em Python puro permitiu compreender detalhadamente cada etapa do processo de classificação, desde o pré-processamento até a tomada de decisão. Os resultados mostraram que, embora o modelo baseline ofereça uma referência útil, o algoritmo estudado apresentou maior precisão e melhor separação entre as classes, especialmente em cenários com dados bem distribuídos. Essa análise reforça a importância de entender o funcionamento interno dos algoritmos para fazer escolhas mais informadas em projetos de aprendizado de máquina."
   ]
  },
  {
   "cell_type": "markdown",
   "id": "e297e6b7",
   "metadata": {},
   "source": [
    "## Conclusões\n",
    "\n",
    "Este notebook teve como objetivo compreender e aplicar de forma didática um algoritmo de classificação supervisionada, destacando tanto sua fundamentação teórica quanto sua implementação prática em Python puro. Ao induzir um modelo com o algoritmo escolhido e compará-lo com um classificador baseline, foi possível avaliar seu desempenho e entender suas vantagens e limitações em cenários reais. A construção manual das funções fortaleceu o aprendizado sobre os mecanismos internos do algoritmo, promovendo autonomia na exploração de novas técnicas de aprendizado de máquina. Assim, o material contribui para o desenvolvimento de uma habilidade essencial: a capacidade de estudar e aplicar algoritmos não abordados diretamente em sala de aula.\n"
   ]
  },
  {
   "cell_type": "markdown",
   "id": "e21562de-ace4-4012-94d2-69fda8353026",
   "metadata": {},
   "source": [
    "## Referências Bibliográficas\n",
    "1. IBM. Máquina de vetores de suporte. Disponível em: <https://www.ibm.com/br-pt/think/topics/support-vector-machine>.\n",
    "2. OPENAI. ChatGPT. São Francisco: OpenAI, 2025. Disponível em: <https://chat.openai.com/>. Acesso em: 10 set. 2025."
   ]
  },
  {
   "cell_type": "code",
   "execution_count": null,
   "id": "24b7fb5e-5a84-4894-8fc2-9906edf8206f",
   "metadata": {},
   "outputs": [],
   "source": []
  }
 ],
 "metadata": {
  "kernelspec": {
   "display_name": "ilumpy",
   "language": "python",
   "name": "ilumpy"
  },
  "language_info": {
   "codemirror_mode": {
    "name": "ipython",
    "version": 3
   },
   "file_extension": ".py",
   "mimetype": "text/x-python",
   "name": "python",
   "nbconvert_exporter": "python",
   "pygments_lexer": "ipython3",
   "version": "3.12.7"
  }
 },
 "nbformat": 4,
 "nbformat_minor": 5
}
