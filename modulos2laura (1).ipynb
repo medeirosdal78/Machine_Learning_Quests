{
 "cells": [
  {
   "cell_type": "markdown",
   "id": "00795e75-10fe-4ddd-b404-233aea6ba520",
   "metadata": {},
   "source": [
    "### Função `count()`"
   ]
  },
  {
   "cell_type": "markdown",
   "id": "e37bc866-14dc-4f40-a236-dac5c5a263b0",
   "metadata": {},
   "source": [
    "A função `itertools.count()` cria um iterador que devolve números consecutivos infinitamente, espaçados de forma igual. Ela toma como argumentos dois parâmetros: `start`, o valor numérico onde a contagem deve iniciar, e `step`, que determina o intervalo entre os valores. Somente o primeiro argumento é necessário para a função funcionar corretamente. Se o usuário optar por não especificar `step`, ela automaticamente retorna valores em intervalos de 1 em 1. Ela é equivalente a seguinte função:"
   ]
  },
  {
   "cell_type": "code",
   "execution_count": 8,
   "id": "3788f2fc-59b5-42e7-a247-ddec7d98e947",
   "metadata": {},
   "outputs": [],
   "source": [
    "def count(start=0, step=1):\n",
    "    n = start \n",
    "    while True:\n",
    "        yield n # Faz com que a função torne-se uma função geradora, retornando mais de um valor. \n",
    "        n += step # A contagem progride de acordo com o intervalo, ou step"
   ]
  },
  {
   "cell_type": "markdown",
   "id": "e9a0be69-f538-477a-b51d-3759b75f68af",
   "metadata": {},
   "source": [
    "Abaixo, há um exemplo de uso da função. O comando `next` acessa os elementos do iterador e retorna o valor subseguinte. Especificamos que o ponto de partida é o número 0 e que os números progridem de três em três. Aplicando-a em um loop `for`, podemos determinar também em qual iteração ela deve parar de contar (nesse caso, deve parar após o 10$^o$ loop)"
   ]
  },
  {
   "cell_type": "code",
   "execution_count": 4,
   "id": "5b20aabb-e6e8-4230-8f3f-7f12b5e27224",
   "metadata": {},
   "outputs": [
    {
     "name": "stdout",
     "output_type": "stream",
     "text": [
      "0\n",
      "3\n",
      "6\n",
      "9\n",
      "12\n",
      "15\n",
      "18\n",
      "21\n",
      "24\n",
      "27\n"
     ]
    }
   ],
   "source": [
    "from itertools import count\n",
    "\n",
    "contador = count(start=0, step=3)\n",
    "\n",
    "for _ in range(10):\n",
    "\n",
    "    print(next(contador))"
   ]
  },
  {
   "cell_type": "markdown",
   "id": "f30f19e4-26e4-4309-86ed-ed235e0da3d3",
   "metadata": {},
   "source": [
    "Como previsto, a cada iteração, o próximo número a ser retornado é sempre $n$ + `step`. "
   ]
  },
  {
   "cell_type": "markdown",
   "id": "fb801c5e-ad47-4758-9cde-0f932e967458",
   "metadata": {},
   "source": [
    "Usar `count()` é uma opção bastante econômica uma vez que ela gera valores na medida do necessário e não necessita de um processamento maior. Ademais, ela pode ser bem poderosa quando combinado com outras funções. Abaixo, um exemplo do uso de `count()` juntamente com a função `zip()`, permitindo facilmente atribuir index a elementos dentro de uma lista."
   ]
  },
  {
   "cell_type": "code",
   "execution_count": 7,
   "id": "f28c6a16-0597-4597-9eae-5ba4fe666c3e",
   "metadata": {},
   "outputs": [
    {
     "data": {
      "text/plain": [
       "[(1, 'banana'), (2, 'maçã'), (3, 'pera'), (4, 'melancia')]"
      ]
     },
     "execution_count": 7,
     "metadata": {},
     "output_type": "execute_result"
    }
   ],
   "source": [
    "frutas = [\"banana\", \"maçã\", \"pera\", \"melancia\"]\n",
    "\n",
    "lista_indexada = list(zip(count(1), frutas))\n",
    "lista_indexada"
   ]
  },
  {
   "cell_type": "markdown",
   "id": "7e8f2880-cd00-483d-acb4-21213a62993b",
   "metadata": {},
   "source": [
    "### Função `products()`"
   ]
  },
  {
   "cell_type": "markdown",
   "id": "18e2e32b-3777-4f8a-979a-d858244b820a",
   "metadata": {},
   "source": [
    "A função `itertools.products()` realiza o **produto cartesiano entre os elementos de dois ou mais iteráveis** (listas, tuplas ou arrays). O produto cartesiano é definido como a formação de pares ordenados a partir de dois conjuntos. Sendo A o conjunto $A = \\{1, 2, 3, 4\\}$ e B o conjunto $B = \\{x, y\\}$, o produto cartesiano $A \\times B$ é o conjunto de pares ordenados onde o primeiro termo é sempre A e o segundo termo é sempre B. \n",
    "\n",
    "$$A \\times B = \\{(1, x), (1, y), (2, x), (2, y), (3, x), (3, y), (4, x), (4, y)\\}$$\n",
    "\n",
    "Dito isso, ao aplicar essa função, temos como retorno uma sequência de tuplas representando todas as combinações possíveis para aqueles iteráveis. É uma forma mais otimizada de iterar sobre as combinações viáveis entre múltiplas listas."
   ]
  },
  {
   "cell_type": "markdown",
   "id": "a5dcccf4-c424-4f7e-925a-27eb7aa218d0",
   "metadata": {},
   "source": [
    "Essa função leva os argumentos `*iterables`, correspondente aos iteráveis que desejamos combinar, e `repeat`, um parâmetro opcional caso o usuário deseje repetir o mesmo iterável $n$ vezes. Em Python Puro, a função é correspondente a:"
   ]
  },
  {
   "cell_type": "code",
   "execution_count": 9,
   "id": "399fe9d1-b224-4ac0-99d3-d02314a6cfc8",
   "metadata": {},
   "outputs": [],
   "source": [
    "def product(*iterables, repeat=1):\n",
    "\n",
    "    if repeat < 0:\n",
    "        raise ValueError('repeat argument cannot be negative')\n",
    "    pools = [tuple(pool) for pool in iterables] * repeat\n",
    "\n",
    "    result = [[]]\n",
    "    for pool in pools:\n",
    "        result = [x+[y] for x in result for y in pool]\n",
    "\n",
    "    for prod in result:\n",
    "        yield tuple(prod)"
   ]
  },
  {
   "cell_type": "markdown",
   "id": "0a995c94-d644-43ef-92a1-5b9a47c74b74",
   "metadata": {},
   "source": [
    "Em uma aplicação real, podemos criar novas combinações a partir de duas listas. Suponha que temos duas listas contendo nomes de peças de roupas e cores. Usando `product`, criamos tuplas que representam todas as possíveis combinações entre esses elementos."
   ]
  },
  {
   "cell_type": "code",
   "execution_count": 18,
   "id": "78846877-819b-4d3e-aff5-17812e3f698f",
   "metadata": {},
   "outputs": [
    {
     "name": "stdout",
     "output_type": "stream",
     "text": [
      "('Blusa', 'Azul')\n",
      "('Blusa', 'Branca')\n",
      "('Blusa', 'Amarela')\n",
      "('Blusa', 'Vermelha')\n",
      "('Jeans', 'Azul')\n",
      "('Jeans', 'Branca')\n",
      "('Jeans', 'Amarela')\n",
      "('Jeans', 'Vermelha')\n",
      "('Gravata', 'Azul')\n",
      "('Gravata', 'Branca')\n",
      "('Gravata', 'Amarela')\n",
      "('Gravata', 'Vermelha')\n"
     ]
    }
   ],
   "source": [
    "from itertools import product\n",
    "\n",
    "roupas = [\"Blusa\", \"Jeans\", \"Gravata\"]\n",
    "cores = [\"Azul\", \"Branca\", \"Amarela\", \"Vermelha\"]\n",
    "\n",
    "combinações = product(roupas, cores)\n",
    "\n",
    "for i in combinações:\n",
    "    print(i)"
   ]
  },
  {
   "cell_type": "markdown",
   "id": "8b0453f4-f919-41fc-b9e0-e63afa9659e3",
   "metadata": {},
   "source": [
    "## Conclusões"
   ]
  },
  {
   "cell_type": "markdown",
   "id": "6e96ad71-9b98-45df-a327-b43c028333c5",
   "metadata": {},
   "source": [
    "Em programação, a otimização de certos processos é sempre uma rota preferível em termos de poupar processamento maquinário ou mesmo dispensar esforços desnecessários. A biblioteca `itertools` demonstra-se uma ferramenta eficiente para trabalhar com cenários de sequências, repetições e combinações de elementos, criando iteradores poderosos para essas ocasiões. Com isso, obtemos como produto final um código mais conciso, rápido e mais \"amigável\" para a memória do sistema. "
   ]
  },
  {
   "cell_type": "markdown",
   "id": "b02ba1c1-7381-4093-8c02-2f15e518edc3",
   "metadata": {},
   "source": [
    "── .✦ 📖 *Ao estudar esses encantamentos, aprendizes e pesquisadores descobrem que a combinatória não é apenas uma técnica matemática — é uma forma de pensar, de explorar possibilidades, de estruturar soluções e de compreender sistemas complexos. O módulo `itertools` transforma essas ideias em ferramentas concretas, acessíveis e poderosas para quem deseja dominar a arte da programação científica.*"
   ]
  },
  {
   "cell_type": "markdown",
   "id": "06b50ca9-4a35-46f5-9187-eb469b2c5e87",
   "metadata": {},
   "source": [
    "(imagem maneira)"
   ]
  }
 ],
 "metadata": {
  "kernelspec": {
   "display_name": "ilumpy",
   "language": "python",
   "name": "ilumpy"
  },
  "language_info": {
   "codemirror_mode": {
    "name": "ipython",
    "version": 3
   },
   "file_extension": ".py",
   "mimetype": "text/x-python",
   "name": "python",
   "nbconvert_exporter": "python",
   "pygments_lexer": "ipython3",
   "version": "3.12.7"
  }
 },
 "nbformat": 4,
 "nbformat_minor": 5
}
