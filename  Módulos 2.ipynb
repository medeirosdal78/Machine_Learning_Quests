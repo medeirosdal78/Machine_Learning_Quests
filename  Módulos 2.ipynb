{
 "cells": [
  {
   "cell_type": "markdown",
   "id": "6c341baf-679a-4d6b-9de8-bd0e429be230",
   "metadata": {},
   "source": [
    "# Módulos 2: Iterações… iterações em todos os lugares\n",
    "**Nomes**: Bruna Guedes Pereira, Laura Medeiros Dal Ponte, Mariana Melo Pereira"
   ]
  },
  {
   "cell_type": "markdown",
   "id": "03140a43-9bbe-4bbb-b2c3-f26e0136563b",
   "metadata": {},
   "source": [
    "## Introdução\n",
    "\n",
    "A análise combinatória e a manipulação de estruturas iterativas são componentes essenciais em diversas áreas da ciência e da engenharia. Seja para gerar possibilidades, simular cenários, ou estruturar algoritmos, é comum a necessidade de trabalhar com sequências, repetições e combinações de elementos. O módulo `itertools` da linguagem Python foi desenvolvido justamente para atender a essas demandas de forma eficiente e elegante. \n",
    "\n",
    " \n",
    "\n",
    "O `itertools` é uma biblioteca padrão que fornece um conjunto de ferramentas para a criação e manipulação de iteradores. Com ela, é possível realizar operações complexas com poucas linhas de código, evitando estruturas repetitivas e promovendo maior clareza e desempenho nos algoritmos. \n",
    "\n",
    " \n",
    "\n",
    "Este notebook tem como objetivo apresentar o uso prático e teórico de seis funções fundamentais do módulo `itertools`, divididas em dois grupos: \n",
    "\n",
    " \n",
    "\n",
    "1. Funções de análise combinatória: \n",
    "\n",
    "- `product`: realiza o produto cartesiano entre iteráveis, gerando todas as combinações possíveis entre seus elementos. \n",
    "\n",
    "- `permutations`: gera todas as possíveis ordenações de um conjunto de elementos, respeitando o tamanho especificado. \n",
    "\n",
    "- `combinations`: retorna subconjuntos únicos de elementos, ignorando a ordem, útil para problemas de seleção sem repetição. \n",
    "\n",
    " \n",
    "\n",
    "2. Funções de geração infinita: \n",
    "\n",
    "- `count`: gera uma sequência infinita de números, iniciando por um valor definido e incrementando por um passo constante. \n",
    "\n",
    "- `cycle`: percorre infinitamente os elementos de um iterável, repetindo-os em ordem. \n",
    "\n",
    "- `repeat`: repete um único elemento indefinidamente ou por um número específico de vezes. \n",
    "\n",
    " \n",
    "\n",
    "Essas funções são amplamente utilizadas em tarefas como simulações, geração de dados sintéticos, testes automatizados, algoritmos de busca e otimização, entre outras aplicações. Ao longo deste material, serão apresentados exemplos práticos, explicações conceituais e exercícios que ilustram o potencial do módulo `itertools` como ferramenta de apoio à programação científica e à análise combinatória. \n",
    "\n",
    " \n",
    "\n",
    "A seguir, uma breve contextualização \"divertida\" para ambientar e motivar os leitores a entender os fundamentos da atividade realizada. \n",
    "\n",
    " \n",
    "\n",
    "### 🔥 O Grimório de Ifa: Segredos Combinatórios da Rainha do Fogo \n",
    "\n",
    " \n",
    "\n",
    "Na Cordilheira Flamejante, onde o céu arde mesmo à noite e o chão sussurra segredos antigos, foi encontrado um grimório ancestral — um livro não escrito com tinta, mas com lógica pura. Seu conteúdo não trata de feitiços comuns, mas de encantamentos matemáticos capazes de revelar todas as possibilidades ocultas em um conjunto de elementos. Para decifrá-lo, é necessário dominar uma linguagem chamada Python, e em especial, um módulo poderoso conhecido como `itertools`. \n",
    "\n",
    " \n",
    "\n",
    "Este grimório apresenta seis encantamentos fundamentais, cada um com aplicações únicas na arte da análise combinatória e da geração de sequências: \n",
    "\n",
    " \n",
    "\n",
    "- `product`: permite gerar todas as combinações possíveis entre elementos de diferentes conjuntos, como se cada escolha fosse uma dimensão em um espaço mágico. Ideal para testar todas as configurações possíveis de ingredientes, símbolos ou parâmetros. \n",
    "\n",
    " \n",
    "\n",
    "- `permutations`: revela todas as ordenações possíveis de um conjunto de elementos. Cada permutação representa uma sequência distinta, útil para explorar diferentes caminhos, estratégias ou ativações de sistemas complexos. \n",
    "\n",
    " \n",
    "\n",
    "- `combinations`: mostra todos os subconjuntos possíveis de um conjunto, ignorando a ordem. É usado quando o importante é quem está presente, e não em que ordem aparecem — como escolher grupos de guardiões, ingredientes ou variáveis. \n",
    "\n",
    " \n",
    "\n",
    "- `count`: invoca uma sequência infinita de números, começando por um valor inicial e avançando com um passo constante. É uma ferramenta útil para gerar identificadores, simular tempo ou criar índices automaticamente. \n",
    "\n",
    " \n",
    "\n",
    "- `cycle`: repete infinitamente os elementos de um iterável, como um ritual que nunca termina. Pode ser usado para criar padrões cíclicos, simular comportamentos periódicos ou manter uma sequência constante em processos repetitivos. \n",
    "\n",
    " \n",
    "\n",
    "- `repeat`: retorna o mesmo valor várias vezes, indefinidamente ou por um número específico de vezes. Serve para manter constantes em operações, preencher estruturas ou sincronizar fluxos de dados. \n",
    "\n",
    " \n",
    "\n",
    "Ao estudar esses encantamentos, aprendizes e pesquisadores descobrem que a combinatória não é apenas uma técnica matemática — é uma forma de pensar, de explorar possibilidades, de estruturar soluções e de compreender sistemas complexos. O módulo `itertools` transforma essas ideias em ferramentas concretas, acessíveis e poderosas para quem deseja dominar a arte da programação científica. "
   ]
  },
  {
   "cell_type": "markdown",
   "id": "ac256eec-a730-46b5-a964-68872712dee8",
   "metadata": {},
   "source": [
    "### O módulo itertools do Python\n",
    "\n",
    "O módulo `itertools` é uma biblioteca padrão do Python que fornece ferramentas poderosas para trabalhar com iterações e combinações de elementos. Ele é especialmente útil em tarefas de análise combinatória, permitindo gerar sequências, permutações e combinações de forma muito mais simples do que se fizéssemos manualmente com laços de repetição. Além disso, as funções são implementadas de maneira eficiente, o que torna o processamento mais rápido e com menor uso de memória. [1-3]"
   ]
  },
  {
   "cell_type": "markdown",
   "id": "d9d92c78-81c1-449b-9e89-1ef459f3a59c",
   "metadata": {},
   "source": [
    "#### Função `Permutations`\n",
    "\n",
    "A função `itertools.permutations` gera todas as possíveis permutações de um conjunto de elementos. Em uma permutação, a ordem dos elementos importa, ou seja, trocar a posição dos itens gera um arranjo diferente. Essa função é bastante utilizada em problemas de ordenação, senhas, jogos de combinação e na matemática, quando queremos listar todas as formas possíveis de organizar um conjunto [2,4].\n",
    "\n",
    "A função recebe como argumentos `p` como iterável de entrada (pode ser string, lista, tupla...) e `r`, argumento opcional que define o tamanho das permutações que queremos gerar (se não for especificado, o valor padrão é o comprimento total de p). A saída são tuplas de tamanho `r`, contendo todas as ordenações possíveis dos elementos de `p`, sem repetição. [1].\n",
    "\n",
    "*Argumentos*: `p[, r]`\n",
    "<br>\n",
    "*Resultados*: `r-length tuples, all possible orderings, no repeated elements` \n",
    "<br>\n",
    "*Exemplo*: `permutations('ABCD', 2) → AB AC AD BA BC BD CA CB CD DA DB DC`\n",
    "\n",
    "A seguir, serão exibidos exemplos da referência [4]:"
   ]
  },
  {
   "cell_type": "code",
   "execution_count": 2,
   "id": "a95b3238-7115-40d6-855a-b9f31c94a32d",
   "metadata": {},
   "outputs": [],
   "source": [
    "from itertools import permutations"
   ]
  },
  {
   "cell_type": "markdown",
   "id": "10e1f4aa-36b1-4196-ae77-0b48e64b553c",
   "metadata": {},
   "source": [
    "**Exemplo 1**: sem argumento `r`"
   ]
  },
  {
   "cell_type": "code",
   "execution_count": 3,
   "id": "333e309e-74a4-4e59-be1f-d41667d0e75c",
   "metadata": {},
   "outputs": [
    {
     "name": "stdout",
     "output_type": "stream",
     "text": [
      "('G', 'e', 'E', 'K')\n",
      "('G', 'e', 'K', 'E')\n",
      "('G', 'E', 'e', 'K')\n",
      "('G', 'E', 'K', 'e')\n",
      "('G', 'K', 'e', 'E')\n",
      "('G', 'K', 'E', 'e')\n",
      "('e', 'G', 'E', 'K')\n",
      "('e', 'G', 'K', 'E')\n",
      "('e', 'E', 'G', 'K')\n",
      "('e', 'E', 'K', 'G')\n",
      "('e', 'K', 'G', 'E')\n",
      "('e', 'K', 'E', 'G')\n",
      "('E', 'G', 'e', 'K')\n",
      "('E', 'G', 'K', 'e')\n",
      "('E', 'e', 'G', 'K')\n",
      "('E', 'e', 'K', 'G')\n",
      "('E', 'K', 'G', 'e')\n",
      "('E', 'K', 'e', 'G')\n",
      "('K', 'G', 'e', 'E')\n",
      "('K', 'G', 'E', 'e')\n",
      "('K', 'e', 'G', 'E')\n",
      "('K', 'e', 'E', 'G')\n",
      "('K', 'E', 'G', 'e')\n",
      "('K', 'E', 'e', 'G')\n"
     ]
    }
   ],
   "source": [
    "a = \"GeEK\"\n",
    "\n",
    "# gera e exibe todas as permutações\n",
    "for j in permutations(a):\n",
    "    print(j)"
   ]
  },
  {
   "cell_type": "markdown",
   "id": "d8315e55-d828-4996-b932-14ceed936901",
   "metadata": {},
   "source": [
    "Assim, a função gerou todas as permutações ordenadas da string \"GeEK\", percorrendo o iterador resultante e exibindo cada permutação como uma tupla. Vale lembrar que, por padrão, o comprimento das permutações corresponde ao tamanho total da string [2, 4]."
   ]
  },
  {
   "cell_type": "markdown",
   "id": "88cae5cd-777c-4efe-a1ba-8ea5a01a7b16",
   "metadata": {},
   "source": [
    "**Exemplo 2**: Permutações com variados tipos de dados"
   ]
  },
  {
   "cell_type": "code",
   "execution_count": 4,
   "id": "bdfec627-08f7-4e09-8563-6b7a94611019",
   "metadata": {},
   "outputs": [
    {
     "name": "stdout",
     "output_type": "stream",
     "text": [
      "[(1, 'geeks'), ('geeks', 1)]\n",
      "[(0, 1), (0, 2), (1, 0), (1, 2), (2, 0), (2, 1)]\n"
     ]
    }
   ],
   "source": [
    "print(list(permutations([1, 'geeks'], 2)))\n",
    "print(list(permutations(range(3), 2)))"
   ]
  },
  {
   "cell_type": "markdown",
   "id": "1fc20b87-1c94-4100-b2e6-72b91e39b102",
   "metadata": {},
   "source": [
    "No primeiro caso, ele gera pares da lista [1, 'geeks'], considerando a posição de cada elemento. No segundo caso, ele gera pares do intervalo [0, 1, 2], produzindo todas as combinações ordenadas possíveis de dois elementos. O comprimento de cada permutação é definido pelo segundo argumento (2) [4]."
   ]
  },
  {
   "cell_type": "markdown",
   "id": "09354d55-7996-4de7-a707-3e6363e11cc4",
   "metadata": {},
   "source": [
    "**Exemplo 3**: Permutações com elementos repetidos"
   ]
  },
  {
   "cell_type": "code",
   "execution_count": 5,
   "id": "17c8c3e6-7ea0-4206-964c-bb1889e8334c",
   "metadata": {},
   "outputs": [
    {
     "name": "stdout",
     "output_type": "stream",
     "text": [
      "[(1, 1, 2), (1, 2, 1), (1, 1, 2), (1, 2, 1), (2, 1, 1), (2, 1, 1)]\n"
     ]
    }
   ],
   "source": [
    "res = list(permutations([1, 1, 2]))\n",
    "print(res)"
   ]
  },
  {
   "cell_type": "markdown",
   "id": "a4b71e39-a7bd-4f86-896a-63567e24581b",
   "metadata": {},
   "source": [
    "Mesmo que haja elementos duplicados na lista de entrada, `permutations()` os trata como únicos por posição. Assim, ele gera todos os arranjos ordenados possíveis, mesmo que pareçam iguais [4]."
   ]
  },
  {
   "cell_type": "markdown",
   "id": "0435e5df-712e-4860-ae90-f8761d154118",
   "metadata": {},
   "source": [
    "#### Função `cycle`\n",
    "\n",
    "A função `itertools.cycle` cria um iterador que percorre os elementos de um iterável de forma infinita, repetindo-os continuamente em ordem. Em outras palavras, ela vai \"ciclar\" sobre a sequência: quando chega ao fim, retorna ao começo, e assim sucessivamente [1, 2, 5].\n",
    "\n",
    "Esse comportamento é bastante útil em situações em que precisamos de uma repetição periódica de valores, como:\n",
    "\n",
    "* alternar entre estados (ex.: vermelho, verde, amarelo em um semáforo);\n",
    "* gerar padrões repetitivos em simulações;\n",
    "* criar ciclos de tarefas ou turnos em um processo;\n",
    "* percorrer uma lista de opções em um loop infinito sem precisar reiniciá-la manualmente.\n",
    "\n",
    "Por ser infinito, o iterador só deve ser usado com algum critério de parada ou com funções que limitem a quantidade de elementos gerados, como `itertools.islice` [2].\n",
    "\n",
    "A função recebe como entrada um iterável chamado p (por exemplo, uma lista, string ou tupla). A saída é uma sequência infinita que repete os elementos desse iterável indefinidamente [1,2].\n",
    "\n",
    "*Argumentos*: `p`\n",
    "<br>\n",
    "*Resultados*: `p0, p1, … plast, p0, p1,` … \n",
    "<br>\n",
    "*Exemplo*: `cycle('ABCD') → A B C D A B C D` ...\n",
    "\n",
    "A seguir, serão exibidos exemplos produzidos mediante referência [2]:"
   ]
  },
  {
   "cell_type": "markdown",
   "id": "37ba17da-62a0-480a-a1ee-eb5b6bf64d0f",
   "metadata": {},
   "source": [
    "**Exemplo 1**: Alternância Cíclica de Cores"
   ]
  },
  {
   "cell_type": "code",
   "execution_count": 8,
   "id": "7a462552-e486-48d4-8ae7-1b7de0f25e20",
   "metadata": {},
   "outputs": [],
   "source": [
    "from itertools import cycle"
   ]
  },
  {
   "cell_type": "code",
   "execution_count": 7,
   "id": "579b6ded-27fd-4dbe-98bf-2391b1ba8d34",
   "metadata": {},
   "outputs": [
    {
     "name": "stdout",
     "output_type": "stream",
     "text": [
      "Iteração 1: vermelho\n",
      "Iteração 2: verde\n",
      "Iteração 3: azul\n",
      "Iteração 4: vermelho\n",
      "Iteração 5: verde\n",
      "Iteração 6: azul\n",
      "Iteração 7: vermelho\n",
      "Iteração 8: verde\n",
      "Iteração 9: azul\n",
      "Iteração 10: vermelho\n"
     ]
    }
   ],
   "source": [
    "# Sequência que queremos repetir\n",
    "cores = [\"vermelho\", \"verde\", \"azul\"]\n",
    "\n",
    "# Criamos o iterador cíclico\n",
    "cores_ciclicas = cycle(cores)\n",
    "\n",
    "# Vamos imprimir os primeiros 10 elementos do ciclo\n",
    "for i in range(10):\n",
    "    cor_atual = next(cores_ciclicas)\n",
    "    print(f\"Iteração {i+1}: {cor_atual}\")\n"
   ]
  },
  {
   "cell_type": "markdown",
   "id": "d6ac6048-20d3-4dbb-a084-d53ad3fbe7f3",
   "metadata": {},
   "source": [
    "Assim, `cycle(cores)` cria um iterador que vai percorrer a lista `cores` indefinidamente, `next(cores_ciclicas)` retorna o próximo elemento do ciclo, e o `for` controla quantas vezes queremos consumir o iterador (senão ele iria rodar infinitamente)."
   ]
  },
  {
   "cell_type": "markdown",
   "id": "981f6493-7c1a-468a-a855-da81006191ef",
   "metadata": {},
   "source": [
    "**Exemplo 2:** Atribuição Cíclica de Propriedades"
   ]
  },
  {
   "cell_type": "code",
   "execution_count": 9,
   "id": "5049c7a4-6405-443e-8eb0-87e47a45dce2",
   "metadata": {},
   "outputs": [
    {
     "name": "stdout",
     "output_type": "stream",
     "text": [
      "A fruta maçã tem a cor vermelho\n",
      "A fruta banana tem a cor verde\n",
      "A fruta laranja tem a cor amarelo\n",
      "A fruta uva tem a cor vermelho\n",
      "A fruta pera tem a cor verde\n",
      "A fruta abacaxi tem a cor amarelo\n"
     ]
    }
   ],
   "source": [
    "# Lista de frutas\n",
    "frutas = [\"maçã\", \"banana\", \"laranja\", \"uva\", \"pera\", \"abacaxi\"]\n",
    "\n",
    "# Lista de cores (menor que a lista de frutas)\n",
    "cores = [\"vermelho\", \"verde\", \"amarelo\"]\n",
    "\n",
    "# Criamos um ciclo infinito das cores\n",
    "cores_ciclicas = cycle(cores)\n",
    "\n",
    "# Atribuímos uma cor para cada fruta\n",
    "for fruta in frutas:\n",
    "    cor_atual = next(cores_ciclicas)\n",
    "    print(f\"A fruta {fruta} tem a cor {cor_atual}\")\n"
   ]
  },
  {
   "cell_type": "markdown",
   "id": "1f27a9c2-0bf7-44fb-9fef-77a3bb2a7681",
   "metadata": {},
   "source": [
    "Assim, `cycle(cores)` garante que, mesmo que a lista de frutas seja maior, as cores se repetem automaticamente, dispensando o cálculo manual do índice com `% len(cores)`. Ao usar `itertools.cycle` com listas de tamanhos diferentes, fica evidente a flexibilidade e praticidade dessa função.\n",
    "\n",
    "Nesse exemplo, se não utilizássemos `cycle`, para associar cada fruta a uma cor de forma cíclica, seria necessário calcular manualmente o índice da cor para que ela “reinicie” quando acabar a lista. Isso é feito usando o operador módulo `%` [2]."
   ]
  },
  {
   "cell_type": "code",
   "execution_count": 10,
   "id": "c6120d19-de46-4346-950f-b7b51192a62a",
   "metadata": {},
   "outputs": [
    {
     "name": "stdout",
     "output_type": "stream",
     "text": [
      "A fruta maçã tem a cor vermelho\n",
      "A fruta banana tem a cor verde\n",
      "A fruta laranja tem a cor amarelo\n",
      "A fruta uva tem a cor vermelho\n",
      "A fruta pera tem a cor verde\n",
      "A fruta abacaxi tem a cor amarelo\n"
     ]
    }
   ],
   "source": [
    "frutas = [\"maçã\", \"banana\", \"laranja\", \"uva\", \"pera\", \"abacaxi\"]\n",
    "cores = [\"vermelho\", \"verde\", \"amarelo\"]\n",
    "\n",
    "for i in range(len(frutas)):\n",
    "    cor_atual = cores[i % len(cores)]  # índice cíclico\n",
    "    print(f\"A fruta {frutas[i]} tem a cor {cor_atual}\")\n"
   ]
  },
  {
   "cell_type": "markdown",
   "id": "195d64fd-bcd8-4f8d-acc4-24a010ee6300",
   "metadata": {},
   "source": [
    "#### Função `combinations()` \n",
    "\n",
    " \n",
    "\n",
    "Essa função retorna subsequências de comprimento r dos elementos do iterável de entrada. \n",
    "\n",
    " \n",
    "\n",
    "A saída consiste em uma subsequência do resultado de `product()`, mantendo apenas as entradas que são subsequências do iterável original. O número de combinações geradas é dado por `math.comb()`, que calcula: \n",
    "\n",
    " \n",
    "\n",
    "$$ \n",
    "\\binom{n}{r} = \\frac{n!}{r!(n - r)!} \n",
    "$$ \n",
    "\n",
    " \n",
    "\n",
    "quando $( 0 \\leq r \\leq n)$, ou zero quando $( r > n )$. \n",
    "\n",
    " \n",
    "\n",
    "As tuplas de combinação são emitidas em ordem lexicográfica, de acordo com a ordem dos elementos no iterável de entrada. Se o iterável estiver ordenado, as tuplas geradas também estarão em ordem crescente. \n",
    "\n",
    " \n",
    "\n",
    "Os elementos são tratados como únicos com base em sua posição, e não em seu valor. Se os elementos do iterável forem únicos, não haverá valores repetidos dentro de cada combinação. \n",
    "\n",
    " \n",
    "\n",
    "**Parâmetros:** \n",
    "\n",
    " \n",
    "\n",
    "- `iterable`: É a sequência de elementos da qual você deseja formar combinações. Pode ser uma lista, tupla, string, ou qualquer objeto iterável.   \n",
    "\n",
    "  Exemplo: ['A', 'B', 'C'], 'ABC', range(4). \n",
    "\n",
    " \n",
    "\n",
    "- `r`: É o número de elementos que cada combinação deve conter.   \n",
    "\n",
    "  Exemplo: se r = 2, a função vai gerar todas as combinações possíveis de 2 elementos do `iterable`. \n",
    "\n",
    " \n",
    "\n",
    "**Importante**:   \n",
    "\n",
    "- As combinações são geradas sem repetição e sem considerar a ordem. \n",
    "\n",
    "- O número total de combinações é dado por $$\\binom{n}{r} = \\frac{n!}{r!(n - r)!}$$ onde $n$ é o tamanho do `iterable`."
   ]
  },
  {
   "cell_type": "code",
   "execution_count": 6,
   "id": "1554c6da-8e67-413a-a5c8-80fd9de71ef3",
   "metadata": {},
   "outputs": [],
   "source": [
    "from itertools import combinations"
   ]
  },
  {
   "cell_type": "markdown",
   "id": "e8a4a8a3",
   "metadata": {},
   "source": [
    "**Exemplo 1:** Passando uma String para o parâmetro `iterable` "
   ]
  },
  {
   "cell_type": "code",
   "execution_count": null,
   "id": "beb9c8e1-fb97-4e81-9858-36a3cfb8e94c",
   "metadata": {},
   "outputs": [
    {
     "name": "stdout",
     "output_type": "stream",
     "text": [
      "[('A', 'B'), ('A', 'C'), ('A', 'D'), ('B', 'C'), ('B', 'D'), ('C', 'D')]\n",
      "[(0, 1, 2), (0, 1, 3), (0, 2, 3), (1, 2, 3)]\n"
     ]
    }
   ],
   "source": [
    "print(list(combinations('ABCD', 2))) "
   ]
  },
  {
   "cell_type": "markdown",
   "id": "3941710f",
   "metadata": {},
   "source": [
    "**Exemplo 2:** Passando um `range()` para o parâmetro `iterable`"
   ]
  },
  {
   "cell_type": "code",
   "execution_count": null,
   "id": "085bcbee",
   "metadata": {},
   "outputs": [],
   "source": [
    "print(list(combinations(range(4), 3)))"
   ]
  },
  {
   "cell_type": "markdown",
   "id": "03534ec4-eed1-4169-89c7-47b495fabfff",
   "metadata": {},
   "source": [
    "No código a seguir, podemos observar com mais detalhes a lógica por trás da função `combinations`, que tem como objetivo gerar todas as combinações possíveis de um determinado número de elementos (`r`) a partir de um conjunto fornecido (`iterable`). Diferente das permutações, as combinações não consideram a ordem dos elementos — ou seja, os pares `(A, B)` e `(B, A)` são tratados como equivalentes, e apenas um deles será gerado. \n",
    "\n",
    " \n",
    "\n",
    "**Aviso:** Código retirado da própria documentação do módulo `itertools`. "
   ]
  },
  {
   "cell_type": "code",
   "execution_count": 8,
   "id": "c3c9195b-dee3-4218-b41b-a92c442696cb",
   "metadata": {},
   "outputs": [],
   "source": [
    "def combinations(iterable, r): \n",
    "\n",
    " \n",
    "\n",
    "    pool = tuple(iterable) \n",
    "\n",
    "    n = len(pool) \n",
    "\n",
    "    if r > n: \n",
    "\n",
    "        return \n",
    "\n",
    "    indices = list(range(r)) \n",
    "\n",
    " \n",
    "\n",
    "    yield tuple(pool[i] for i in indices) \n",
    "\n",
    "    while True: \n",
    "\n",
    "        for i in reversed(range(r)): \n",
    "\n",
    "            if indices[i] != i + n - r: \n",
    "\n",
    "                break \n",
    "\n",
    "        else: \n",
    "\n",
    "            return \n",
    "\n",
    "        indices[i] += 1 \n",
    "\n",
    "        for j in range(i+1, r): \n",
    "\n",
    "            indices[j] = indices[j-1] + 1 \n",
    "\n",
    "        yield tuple(pool[i] for i in indices) "
   ]
  },
  {
   "cell_type": "markdown",
   "id": "639b7be4-88c7-4310-8c6c-65edc21c60b4",
   "metadata": {},
   "source": [
    "O funcionamento da função começa convertendo o iterável de entrada em uma tupla chamada `pool`, o que permite acessar seus elementos por índice. Em seguida, calcula-se o tamanho total do conjunto, armazenado na variável `n`. Se o número de elementos desejado (`r`) for maior que `n`, não há como formar combinações, e a função termina imediatamente. \n",
    "\n",
    " \n",
    "\n",
    "Caso contrário, a função inicia com uma lista de índices que representa a primeira combinação possível: os primeiros `r` elementos do conjunto. Essa combinação é então gerada e retornada. \n",
    "\n",
    " \n",
    "\n",
    "A partir daí, a função entra em um laço que busca, da direita para a esquerda, o primeiro índice que ainda pode ser incrementado sem ultrapassar os limites do conjunto. Quando esse índice é encontrado, ele é incrementado, e todos os índices seguintes são ajustados para manter a ordem crescente. Isso garante que as combinações geradas sejam únicas e estejam em ordem lexicográfica. \n",
    "\n",
    " \n",
    "\n",
    "Cada nova configuração de índices gera uma nova combinação, que é retornada pela função. Esse processo se repete até que não seja mais possível incrementar nenhum índice, momento em que todas as combinações possíveis já foram geradas e a função se encerra. \n",
    "\n",
    " \n",
    "\n",
    "Essa abordagem é eficiente e evita o uso de estruturas complexas ou recursivas, permitindo que as combinações sejam geradas de forma iterativa e sob demanda, utilizando o recurso de `yield`. "
   ]
  },
  {
   "cell_type": "markdown",
   "id": "893a1854-9a85-4eb9-9263-aacec2347ca6",
   "metadata": {},
   "source": [
    "#### Função `repeat()` \n",
    "\n",
    "É uma função capaz de criar um iterador que retorna um objeto repetidamente. \n",
    "\n",
    "Na célula a seguir, observamos como é o algoritmo por trás da função `repeat`, que é usada para criar um iterador que retorna o mesmo objeto várias vezes. Ela pode funcionar de duas maneiras, dependendo se o parâmetro `times` é fornecido ou não. \n",
    "\n",
    " \n",
    "\n",
    "**Parâmetros:** \n",
    "\n",
    " \n",
    "\n",
    "- `object`:  É o valor que será repetido. Pode ser qualquer tipo de dado: número, string, lista, etc.   \n",
    "\n",
    "  Exemplo: `'A'`, `42`, `[1, 2]`. \n",
    "\n",
    " \n",
    "\n",
    "- `times` *(opcional)*: É o número de vezes que o `object` será repetido. \n",
    "\n",
    " \n",
    "\n",
    "**Aviso:** Código retirado da própria documentação do módulo `itertools`. "
   ]
  },
  {
   "cell_type": "code",
   "execution_count": 3,
   "id": "fc921de7-82ef-429d-ae1e-5a3051943b57",
   "metadata": {},
   "outputs": [],
   "source": [
    "def repeat(object, times=None): \n",
    "\n",
    "    if times is None: \n",
    "\n",
    "        while True: \n",
    "\n",
    "            yield object \n",
    "\n",
    "    else: \n",
    "\n",
    "        for i in range(times): \n",
    "\n",
    "            yield object"
   ]
  },
  {
   "cell_type": "markdown",
   "id": "e6e39170-053d-41df-8016-cd8eb4dd00ff",
   "metadata": {},
   "source": [
    "**Exemplo 1:** Sem valor para o parâmtero `times`\n",
    "\n",
    "Se o parâmetro `times` não for especificado, a função entra em um laço infinito e continua retornando o mesmo objeto indefinidamente. Isso é útil em situações em que se deseja manter um valor constante sendo repetido, como em operações com `map` ou `zip`, onde um dos argumentos precisa ser fixo. \n",
    "\n",
    "**Exemplo 2:** Fornecendo um valor para o parâmtero `times`\n",
    "\n",
    "Por outro lado, se o parâmetro `times` for fornecido, a função retorna o objeto exatamente aquele número de vezes. Para isso, ela utiliza um laço `for` que se repete `times` vezes, e em cada iteração, o objeto é retornado. "
   ]
  },
  {
   "cell_type": "code",
   "execution_count": null,
   "id": "769d35c0-11e5-4ab9-8daf-c570fccd5fe3",
   "metadata": {},
   "outputs": [],
   "source": [
    "list(repeat(10, 3)) "
   ]
  },
  {
   "cell_type": "markdown",
   "id": "a042ef79-7f92-4306-9ab9-068fb782368c",
   "metadata": {},
   "source": [
    "Essa função é simples, mas extremamente útil em contextos onde se deseja repetir valores sem criar listas manualmente ou ocupar memória desnecessária. Como ela utiliza `yield`, os valores são gerados sob demanda, o que torna o processo mais eficiente. \n",
    "\n",
    "**Exemplo 3:** aplicação na função `map()`\n",
    "\n",
    "Um uso comum da função `repeat` é fornecer também uma sequência constante de valores para funções como `map` ou `zip`. "
   ]
  },
  {
   "cell_type": "code",
   "execution_count": 4,
   "id": "b75fddad-c2cc-4b0c-b008-2082f0acddd2",
   "metadata": {},
   "outputs": [
    {
     "data": {
      "text/plain": [
       "[0, 1, 4, 9, 16, 25, 36, 49, 64, 81]"
      ]
     },
     "execution_count": 4,
     "metadata": {},
     "output_type": "execute_result"
    }
   ],
   "source": [
    "list(map(pow, range(10), repeat(2))) "
   ]
  },
  {
   "cell_type": "markdown",
   "id": "359d6eee-5e50-4a77-931a-f77ab910cc78",
   "metadata": {},
   "source": [
    "#### Função `count()`\n",
    "A função `itertools.count()` cria um iterador que devolve números consecutivos infinitamente, espaçados de forma igual. Ela toma como argumentos dois parâmetros: `start`, o valor numérico onde a contagem deve iniciar, e `step`, que determina o intervalo entre os valores. Somente o primeiro argumento é necessário para a função funcionar corretamente. Se o usuário optar por não especificar `step`, ela automaticamente retorna valores em intervalos de 1 em 1. Ela é equivalente a seguinte função:"
   ]
  },
  {
   "cell_type": "code",
   "execution_count": 9,
   "id": "73008ca5-2a0d-487b-b806-e7757d7d4c02",
   "metadata": {},
   "outputs": [],
   "source": [
    "def count(start=0, step=1):\n",
    "    n = start \n",
    "    while True:\n",
    "        yield n # Faz com que a função torne-se uma função geradora, retornando mais de um valor. \n",
    "        n += step # A contagem progride de acordo com o intervalo, ou step"
   ]
  },
  {
   "cell_type": "markdown",
   "id": "3346ed06-ee6c-4bc2-903c-84fae82a4998",
   "metadata": {},
   "source": [
    "Abaixo, há um exemplo de uso da função. O comando `next` acessa os elementos do iterador e retorna o valor subseguinte. Especificamos que o ponto de partida é o número 0 e que os números progridem de três em três. Aplicando-a em um loop `for`, podemos determinar também em qual iteração ela deve parar de contar (nesse caso, deve parar após o 10$^o$ loop)"
   ]
  },
  {
   "cell_type": "code",
   "execution_count": 10,
   "id": "1a3d05e1-b6fd-4677-9c0e-c91650ff14ba",
   "metadata": {},
   "outputs": [
    {
     "name": "stdout",
     "output_type": "stream",
     "text": [
      "0\n",
      "3\n",
      "6\n",
      "9\n",
      "12\n",
      "15\n",
      "18\n",
      "21\n",
      "24\n",
      "27\n"
     ]
    }
   ],
   "source": [
    "from itertools import count\n",
    "\n",
    "contador = count(start=0, step=3)\n",
    "\n",
    "for _ in range(10):\n",
    "\n",
    "    print(next(contador))"
   ]
  },
  {
   "cell_type": "markdown",
   "id": "5e84b510-9ff1-42b8-95cd-d0d94bf349c5",
   "metadata": {},
   "source": [
    "Como previsto, a cada iteração, o próximo número a ser retornado é sempre $n$ + `step`. \n",
    "\n",
    "Usar `count()` é uma opção bastante econômica uma vez que ela gera valores na medida do necessário e não necessita de um processamento maior. Ademais, ela pode ser bem poderosa quando combinado com outras funções. Abaixo, um exemplo do uso de `count()` juntamente com a função `zip()`, permitindo facilmente atribuir index a elementos dentro de uma lista."
   ]
  },
  {
   "cell_type": "code",
   "execution_count": 11,
   "id": "232bce4c-b047-42c4-957d-d42d4279270c",
   "metadata": {},
   "outputs": [
    {
     "data": {
      "text/plain": [
       "[(1, 'banana'), (2, 'maçã'), (3, 'pera'), (4, 'melancia')]"
      ]
     },
     "execution_count": 11,
     "metadata": {},
     "output_type": "execute_result"
    }
   ],
   "source": [
    "frutas = [\"banana\", \"maçã\", \"pera\", \"melancia\"]\n",
    "\n",
    "lista_indexada = list(zip(count(1), frutas))\n",
    "lista_indexada"
   ]
  },
  {
   "cell_type": "markdown",
   "id": "fff2fb54-9080-44f7-a430-ae8e51dd5034",
   "metadata": {},
   "source": [
    "#### Função `products()`\n",
    "\n",
    "A função `itertools.products()` realiza o **produto cartesiano entre os elementos de dois ou mais iteráveis** (listas, tuplas ou arrays). O produto cartesiano é definido como a formação de pares ordenados a partir de dois conjuntos. Sendo A o conjunto $A = \\{1, 2, 3, 4\\}$ e B o conjunto $B = \\{x, y\\}$, o produto cartesiano $A \\times B$ é o conjunto de pares ordenados onde o primeiro termo é sempre A e o segundo termo é sempre B. \n",
    "\n",
    "$$A \\times B = \\{(1, x), (1, y), (2, x), (2, y), (3, x), (3, y), (4, x), (4, y)\\}$$\n",
    "\n",
    "Dito isso, ao aplicar essa função, temos como retorno uma sequência de tuplas representando todas as combinações possíveis para aqueles iteráveis. É uma forma mais otimizada de iterar sobre as combinações viáveis entre múltiplas listas.\n",
    "\n",
    "Essa função leva os argumentos `*iterables`, correspondente aos iteráveis que desejamos combinar, e `repeat`, um parâmetro opcional caso o usuário deseje repetir o mesmo iterável $n$ vezes. Em Python Puro, a função é correspondente a:"
   ]
  },
  {
   "cell_type": "code",
   "execution_count": 12,
   "id": "e60281ab-c994-406b-ad6b-045f529d9554",
   "metadata": {},
   "outputs": [],
   "source": [
    "def product(*iterables, repeat=1):\n",
    "\n",
    "    if repeat < 0:\n",
    "        raise ValueError('repeat argument cannot be negative')\n",
    "    pools = [tuple(pool) for pool in iterables] * repeat\n",
    "\n",
    "    result = [[]]\n",
    "    for pool in pools:\n",
    "        result = [x+[y] for x in result for y in pool]\n",
    "\n",
    "    for prod in result:\n",
    "        yield tuple(prod)"
   ]
  },
  {
   "cell_type": "markdown",
   "id": "6f0a0f7f-2a3b-45f0-848e-583a21f6a66e",
   "metadata": {},
   "source": [
    "Em uma aplicação real, podemos criar novas combinações a partir de duas listas. Suponha que temos duas listas contendo nomes de peças de roupas e cores. Usando `product`, criamos tuplas que representam todas as possíveis combinações entre esses elementos."
   ]
  },
  {
   "cell_type": "code",
   "execution_count": null,
   "id": "c9d60233-e915-4a06-a2e6-f2168ad53708",
   "metadata": {},
   "outputs": [
    {
     "name": "stdout",
     "output_type": "stream",
     "text": [
      "('Blusa', 'Azul')\n",
      "('Blusa', 'Branca')\n",
      "('Blusa', 'Amarela')\n",
      "('Blusa', 'Vermelha')\n",
      "('Jeans', 'Azul')\n",
      "('Jeans', 'Branca')\n",
      "('Jeans', 'Amarela')\n",
      "('Jeans', 'Vermelha')\n",
      "('Gravata', 'Azul')\n",
      "('Gravata', 'Branca')\n",
      "('Gravata', 'Amarela')\n",
      "('Gravata', 'Vermelha')\n"
     ]
    }
   ],
   "source": [
    "from itertools import product\n",
    "\n",
    "roupas = [\"Blusa\", \"Jeans\", \"Gravata\"]\n",
    "cores = [\"Azul\", \"Branca\", \"Amarela\", \"Vermelha\"]\n",
    "\n",
    "combinacoes = product(roupas, cores)\n",
    "\n",
    "for i in combinacoes:\n",
    "    print(i)"
   ]
  },
  {
   "cell_type": "markdown",
   "id": "5a9e3b97-7c65-4a8f-ad50-682299351ed1",
   "metadata": {},
   "source": [
    "## Conclusões"
   ]
  },
  {
   "cell_type": "markdown",
   "id": "e710ccfe-8d9a-4a2f-ac4b-ce8fad21aed6",
   "metadata": {},
   "source": [
    "Em programação, a otimização de certos processos é sempre uma rota preferível em termos de poupar processamento maquinário ou mesmo dispensar esforços desnecessários. A biblioteca `itertools` demonstra-se uma ferramenta eficiente para trabalhar com cenários de sequências, repetições e combinações de elementos, criando iteradores poderosos para essas ocasiões. Com isso, obtemos como produto final um código mais conciso, rápido e mais \"amigável\" para a memória do sistema. \n",
    "\n",
    "── .✦ 📖 *Ao estudar esses encantamentos, aprendizes e pesquisadores descobrem que a combinatória não é apenas uma técnica matemática — é uma forma de pensar, de explorar possibilidades, de estruturar soluções e de compreender sistemas complexos. O módulo `itertools` transforma essas ideias em ferramentas concretas, acessíveis e poderosas para quem deseja dominar a arte da programação científica.*"
   ]
  },
  {
   "cell_type": "markdown",
   "id": "0d7cf749-9889-4260-826d-d6d73da1dc75",
   "metadata": {},
   "source": [
    "## Referências Bibliográficas\n",
    "\n",
    "1. PYTHON. itertools — Functions creating iterators for efficient looping — Python 3.9.1 documentation. Disponível em: <https://docs.python.org/3/library/itertools.html>.\n",
    "\n",
    "2. OPENAI. ChatGPT. São Francisco: OpenAI, 2025. Disponível em: <https://chat.openai.com/>. Acesso em: 9 set. 2025.\n",
    "\n",
    "3. GEEKSFORGEEKS. Python Itertools. Disponível em: <https://www.geeksforgeeks.org/python/python-itertools/>.\n",
    "\n",
    "4. GEEKSFORGEEKS. Itertools.Permutations() Python. Disponível em: <https://www.geeksforgeeks.org/python/python-itertools-permutations/>. Acesso em: 9 set. 2025.\n",
    "\n",
    "5. GEEKSFORGEEKS. Python Itertools.cycle(). Disponível em: <https://www.geeksforgeeks.org/python/python-itertools-cycle/>. Acesso em: 9 set. 2025.\n",
    "\n",
    "6. ZUCKERMAN, S. What’s this in itertools? count. Disponível em: <https://szuckerman.github.io/itertools_count.html>. Acesso em: 8 set. 2025.\n",
    "\n"
   ]
  },
  {
   "cell_type": "markdown",
   "id": "5e2edb40",
   "metadata": {},
   "source": [
    "## Uso de Inteligência Artificial\n",
    "\n",
    "O modelo Microsoft Copilot foi utilizado especificamente para criar a história inicial no estilo RPG e para revisar os textos de desenvolvimento dos exercícios, ajudando a detalhar o passo a passo seguido para guiar melhor o leitor. As perguntas realizadas à IA foram no estilo: *\"Escrevi o seguinte texto: ... Como posso melhorá-lo para guiar o leitor passo a passo, mostrando de maneira clara minha resolução?\"*."
   ]
  }
 ],
 "metadata": {
  "kernelspec": {
   "display_name": "base",
   "language": "python",
   "name": "python3"
  },
  "language_info": {
   "codemirror_mode": {
    "name": "ipython",
    "version": 3
   },
   "file_extension": ".py",
   "mimetype": "text/x-python",
   "name": "python",
   "nbconvert_exporter": "python",
   "pygments_lexer": "ipython3",
   "version": "3.10.8"
  }
 },
 "nbformat": 4,
 "nbformat_minor": 5
}
