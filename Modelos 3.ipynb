{
 "cells": [
  {
   "cell_type": "markdown",
   "id": "2cc07a6c",
   "metadata": {},
   "source": [
    "# Modelos 3: Regularização\n",
    "**Aluna**: _Bruna Guedes Pereira, Laura Medeiros Dal Ponte, Mariana Melo Pereira_"
   ]
  },
  {
   "cell_type": "code",
   "execution_count": null,
   "id": "50b79fbc-2dd7-45c7-9e9a-cd35c7e50d3f",
   "metadata": {},
   "outputs": [],
   "source": []
  },
  {
   "cell_type": "markdown",
   "id": "12a496f9",
   "metadata": {},
   "source": []
  }
 ],
 "metadata": {
  "kernelspec": {
   "display_name": "ilumpy",
   "language": "python",
   "name": "ilumpy"
  },
  "language_info": {
   "codemirror_mode": {
    "name": "ipython",
    "version": 3
   },
   "file_extension": ".py",
   "mimetype": "text/x-python",
   "name": "python",
   "nbconvert_exporter": "python",
   "pygments_lexer": "ipython3",
   "version": "3.12.7"
  }
 },
 "nbformat": 4,
 "nbformat_minor": 5
}
