{
 "cells": [
  {
   "cell_type": "markdown",
   "id": "2cc07a6c",
   "metadata": {},
   "source": [
    "# Modelos 3: Regularização\n",
    "**Nomes**: Bruna Guedes Pereira, Laura Medeiros Dal Ponte, Mariana Melo Pereira"
   ]
  },
  {
   "cell_type": "markdown",
   "id": "e981533c",
   "metadata": {},
   "source": [
    "## Introdução\n",
    "\n",
    "Em Machine Learning, a escolha do modelo ideal é um passo fundamental para garantir uma boa eficácia nas previsões de dados. Modelos de regressão linear são amplamente valorizados devido a sua interpretabilidade, sendo um dos modelos mais utilizados na área. Entretanto, mediante ao excesso de variáveis, podemos enfrentar problemas com o nosso modelo a respeito de *overfitting*, o que impactua diretamente da qualidade das previsões. Para essas ocasiões, a técnica de regularização é uma abordagem frequente. \"Regularizar\" um modelo, nesse contexto, significa ajustar os coeficientes de modo a simplificá-lo e generalizá-lo, reduzindo a quantidade de variáveis. Ou seja, ele controla a \"complexidade\" do modelo impondo restrições. Essas restrições variam para cada ferramenta utilizada.\n",
    "\n",
    "Alguns algoritmos de regularização a nossa disposição incluem LASSO, Ridge e Elastic Net. Para fins de demonstração, nesse notebook, iremos focar em desvendar como funciona o algoritmo LASSO, demonstrando seu mecanismo de regularização e evidenciar, de forma didática, a importância dessa prática.\n",
    "\n",
    "A seguir, uma breve contextualização \"divertida\" para ambientar e motivar os leitores a entender os fundamentos da análise realizada.\n",
    "\n",
    "### 📚 Diana e o Códice da Regularização\n",
    "\n",
    "Diana é jovem para ocupar um cargo tão prestigiado na **Biblioteca Real**, mas sua bravura durante a **Guerra das Marretas Voadoras** lhe rendeu respeito e poder. Foi ela quem decifrou os códigos escondidos nos pergaminhos voadores, salvando os arquivos secretos da destruição. Desde então, tornou-se guardiã dos algoritmos sagrados — fórmulas que moldam o futuro da ciência e da magia.\n",
    "\n",
    "Mas nem todos celebraram sua ascensão. A antiga diretora, agora sua arquirrival, acredita que Diana não está pronta para lidar com os segredos mais profundos da Biblioteca: os **Modelos Lineares com Regularização**.\n",
    "\n",
    "Um dia, Diana encontra um códice selado com três nomes: **LASSO**, **Ridge** e **Elastic Net**. Cada um representa um estilo de regressão linear com um tempero especial — a **regularização**, uma técnica que protege os modelos contra o excesso de confiança, evitando que eles se apeguem demais aos dados e percam a capacidade de generalizar.\n",
    "\n",
    "Diana decide aprofundar seus estudos, então, em um novo algoritmo: o **Lasso**, mestre da precisão e da simplicidade. Diferente de outros modelos que distribuem o peso entre todas as variáveis, o Lasso atua como um filtro rigoroso — ele favorece soluções com menos coeficientes diferentes de zero, eliminando variáveis irrelevantes e revelando apenas o essencial. É como se o modelo escolhesse, com sabedoria, quais elementos realmente merecem estar presentes na equação.\n",
    "\n",
    "Ela aprende que o segredo do Lasso está na regularização L1, uma técnica que adiciona uma penalidade proporcional à soma dos valores absolutos dos coeficientes. Essa penalização força muitos coeficientes a se tornarem exatamente zero, o que resulta em modelos mais enxutos, interpretáveis e resistentes ao excesso de complexidade.\n",
    "\n",
    "Ao treinar um modelo com Lasso usando o `scikit-learn`, Diana descobre que é possível ajustar o parâmetro alpha, que controla a intensidade da regularização. Quanto maior o alpha, mais rigoroso o modelo se torna na seleção de variáveis. Esse comportamento é especialmente valioso em contextos científicos, onde os dados costumam vir acompanhados de ruído, redundância e incerteza.\n",
    "\n",
    "Com o códice em mãos, Diana prepara um novo tomo para os aprendizes da Biblioteca, explicando como o Lasso funciona, como a regularização atua como uma forma de compressão inteligente de conhecimento, e como treinar modelos que não apenas se ajustam aos dados, mas também revelam suas estruturas mais profundas.\n",
    "\n",
    "Ela sabe que dominar algoritmos como o Lasso é mais do que uma tarefa técnica — é uma forma de pensar com clareza, de buscar a essência em meio ao excesso, e de construir conhecimento com responsabilidade. E enquanto sua rival observa de longe, Diana continua a escrever, consciente de que o verdadeiro poder está em entender, explicar e compartilhar."
   ]
  },
  {
   "cell_type": "markdown",
   "id": "966241ea",
   "metadata": {},
   "source": [
    "## 🧑‍💻 Vamos, então, para o Código Mágico?\n",
    "\n",
    "O Código Mágico, capaz de resolver o desafio proposto, será construído a partir da linguagem Python, em conjunto com as suas bibliotecas `scikit-learn`, `pandas` e `matplotlib`. O primeiro passo será, então, importar essas bibliotecas para o nosso ambiente de programação."
   ]
  },
  {
   "cell_type": "markdown",
   "id": "c8d36ccc",
   "metadata": {},
   "source": [
    "### Importação das bibliotecas"
   ]
  },
  {
   "cell_type": "code",
   "execution_count": 1,
   "id": "50b79fbc-2dd7-45c7-9e9a-cd35c7e50d3f",
   "metadata": {},
   "outputs": [
    {
     "ename": "ModuleNotFoundError",
     "evalue": "No module named 'sklearn'",
     "output_type": "error",
     "traceback": [
      "\u001b[1;31m---------------------------------------------------------------------------\u001b[0m",
      "\u001b[1;31mModuleNotFoundError\u001b[0m                       Traceback (most recent call last)",
      "Cell \u001b[1;32mIn[1], line 1\u001b[0m\n\u001b[1;32m----> 1\u001b[0m \u001b[38;5;28;01mfrom\u001b[39;00m \u001b[38;5;21;01msklearn\u001b[39;00m\u001b[38;5;21;01m.\u001b[39;00m\u001b[38;5;21;01mdatasets\u001b[39;00m \u001b[38;5;28;01mimport\u001b[39;00m fetch_california_housing\n\u001b[0;32m      2\u001b[0m \u001b[38;5;28;01mfrom\u001b[39;00m \u001b[38;5;21;01msklearn\u001b[39;00m\u001b[38;5;21;01m.\u001b[39;00m\u001b[38;5;21;01mmodel_selection\u001b[39;00m \u001b[38;5;28;01mimport\u001b[39;00m train_test_split\n\u001b[0;32m      3\u001b[0m \u001b[38;5;28;01mfrom\u001b[39;00m \u001b[38;5;21;01msklearn\u001b[39;00m\u001b[38;5;21;01m.\u001b[39;00m\u001b[38;5;21;01mpreprocessing\u001b[39;00m \u001b[38;5;28;01mimport\u001b[39;00m StandardScaler\n",
      "\u001b[1;31mModuleNotFoundError\u001b[0m: No module named 'sklearn'"
     ]
    }
   ],
   "source": [
    "from sklearn.datasets import fetch_california_housing\n",
    "from sklearn.model_selection import train_test_split\n",
    "from sklearn.preprocessing import StandardScaler\n",
    "from sklearn.linear_model import Lasso\n",
    "from sklearn.metrics import root_mean_squared_error\n",
    "import pandas as pd\n",
    "from sklearn.model_selection import GridSearchCV"
   ]
  },
  {
   "cell_type": "markdown",
   "id": "12a496f9",
   "metadata": {},
   "source": [
    "A segunda etapa consiste em obter os dados a serem considerados para nosso estudo. Para nos ajudar nessa missão, o Mestre C4SS4R disponibilizou um grimório mágico (também conhecido como dataset `California housing`). Vamos, então, carregar os dados desse dataset a partir do código abaixo.\n",
    "\n",
    "### Obtenção dos dados"
   ]
  },
  {
   "cell_type": "code",
   "execution_count": null,
   "id": "7ac83dda",
   "metadata": {},
   "outputs": [],
   "source": [
    "ca_housing = fetch_california_housing()"
   ]
  },
  {
   "cell_type": "markdown",
   "id": "29128c81",
   "metadata": {},
   "source": [
    "Que tal descobrir sobre os dados desse dataset...\n",
    "### Vamos conferir uma descrição geral sobre o nosso *dataset*?"
   ]
  },
  {
   "cell_type": "code",
   "execution_count": null,
   "id": "ebc6be6e",
   "metadata": {},
   "outputs": [],
   "source": [
    "print(ca_housing.DESCR)"
   ]
  },
  {
   "cell_type": "markdown",
   "id": "6d1a437b",
   "metadata": {},
   "source": [
    "Um dataset muito interessante! Utilizaremos as colunas acima descritas para a construção do nosso modelo. Mas quais são os atributos e qual será o target? \n",
    "\n",
    "### Definindo as nossas *features* (atributos)"
   ]
  },
  {
   "cell_type": "code",
   "execution_count": null,
   "id": "d445c53d",
   "metadata": {},
   "outputs": [
    {
     "ename": "NameError",
     "evalue": "name 'ca_housing' is not defined",
     "output_type": "error",
     "traceback": [
      "\u001b[1;31m---------------------------------------------------------------------------\u001b[0m",
      "\u001b[1;31mNameError\u001b[0m                                 Traceback (most recent call last)",
      "Cell \u001b[1;32mIn[1], line 1\u001b[0m\n\u001b[1;32m----> 1\u001b[0m X \u001b[38;5;241m=\u001b[39m \u001b[43mca_housing\u001b[49m\u001b[38;5;241m.\u001b[39mdata\n\u001b[0;32m      2\u001b[0m X\n",
      "\u001b[1;31mNameError\u001b[0m: name 'ca_housing' is not defined"
     ]
    }
   ],
   "source": [
    "X = ca_housing.data\n",
    "X"
   ]
  },
  {
   "cell_type": "markdown",
   "id": "6354b813",
   "metadata": {},
   "source": [
    "No código acima, atribui à variável X os atributos do conjunto de dados `ca_housing`. Isso é possível acessando o atributo `.data` do objeto `ca_housing`, que acessa apenas os dados numéricos (features) do dataset, excluindo os rótulos ou outras informações como nomes das colunas ou descrições. Esses dados numéricos, por sua vez, são armazenados em `X`, uma convenção comum para representar a matriz de entrada (features) em problemas de machine learning.\n",
    "\n",
    "Mas quais dados essas features armazenam?"
   ]
  },
  {
   "cell_type": "code",
   "execution_count": null,
   "id": "243ca41d",
   "metadata": {},
   "outputs": [
    {
     "ename": "NameError",
     "evalue": "name 'ca_housing' is not defined",
     "output_type": "error",
     "traceback": [
      "\u001b[1;31m---------------------------------------------------------------------------\u001b[0m",
      "\u001b[1;31mNameError\u001b[0m                                 Traceback (most recent call last)",
      "Cell \u001b[1;32mIn[3], line 1\u001b[0m\n\u001b[1;32m----> 1\u001b[0m \u001b[43mca_housing\u001b[49m\u001b[38;5;241m.\u001b[39mfeature_names\n",
      "\u001b[1;31mNameError\u001b[0m: name 'ca_housing' is not defined"
     ]
    }
   ],
   "source": [
    "ca_housing.feature_names"
   ]
  },
  {
   "cell_type": "markdown",
   "id": "7c5702c8",
   "metadata": {},
   "source": [
    "Sabemos, então, que X contém dados de:\n",
    "- `'MedInc'`: Renda média dos residentes da região\n",
    "- `'HouseAge'`: Idade média das casas na região\n",
    "- `'AveRooms'`: Número médio de cômodos por casa\n",
    "- `'AveBedrms'`: Número médio de quartos por casa\n",
    "- `'Population'`: População total da região\n",
    "- `'AveOccup'`: Número médio de pessoas por casa\n",
    "- `'Latitude'`: Latitude da região\n",
    "- `'Longitude'`: Longitude da região\n",
    "\n",
    "Agora, vamos definir nosso target?\n",
    "\n",
    "### Definindo o nosso *target*"
   ]
  },
  {
   "cell_type": "code",
   "execution_count": null,
   "id": "685ca710",
   "metadata": {},
   "outputs": [],
   "source": [
    "y = ca_housing.target\n",
    "y"
   ]
  },
  {
   "cell_type": "markdown",
   "id": "89ce10ea",
   "metadata": {},
   "source": [
    "Na célula acima, a variável `y` está recebendo os valores alvo (target) do conjunto de dados `ca_housing`. Isso é possível acessando o atributo `.target` do objeto `ca_housing`, que acessa os valores que queremos prever; neste caso, o valor médio das casas em cada região.\n",
    "\n",
    "Vamos verificar esse target pelo atributo `target_names` do nosso objeto `ca_housing`."
   ]
  },
  {
   "cell_type": "code",
   "execution_count": null,
   "id": "ca1a7eb7",
   "metadata": {},
   "outputs": [],
   "source": [
    "ca_housing.target_names"
   ]
  },
  {
   "cell_type": "markdown",
   "id": "487c2145",
   "metadata": {},
   "source": [
    "### Divisão entre dados de treino e teste\n",
    "\n",
    "O próximo passo é, então, preparar os dados para o treinamento de um modelo de aprendizado de máquina. Para esse processo, é comum dividir o conjunto de dados em duas partes: uma para treinar o modelo e outra para testá-lo. Isso é feito para garantir que o modelo seja avaliado de forma justa, usando dados que ele nunca viu antes."
   ]
  },
  {
   "cell_type": "code",
   "execution_count": null,
   "id": "75d463e8",
   "metadata": {},
   "outputs": [],
   "source": [
    "X_train, X_test, y_train, y_test = train_test_split(X, y, test_size=0.2, random_state=19)"
   ]
  },
  {
   "cell_type": "markdown",
   "id": "8fa916c3",
   "metadata": {},
   "source": [
    "Esse código realiza, portanto, a divisão entre dados de treino e teste. Nela, os dados de entrada (`X`) e os valores que queremos prever (`y`) são separados em quatro subconjuntos: `X_train` e `y_train`, que serão usados para treinar o modelo, e `X_test` e `y_test`, que serão usados para testá-lo. \n",
    "\n",
    "O parâmetro `test_size=0.2` indica que 20% dos dados serão reservados para o teste, enquanto os 80% restantes serão usados no treinamento. Já o parâmetro `random_state=19` serve para garantir que essa divisão seja sempre a mesma toda vez que o código for executado (com um estado aleatório), o que é útil para fins de reprodutibilidade dos resultados.\n",
    "\n",
    "### Padronizando os dados com `StandardScaler()`\n",
    "\n",
    "Agora, precisamos evitar que que os dados tenham escalas muito diferentes, já que isso pode atrapalhar o desempenho de vários algoritmos. Para resolver tal problema, usamos uma técnica chamada standardização, que transforma os dados para que cada variável tenha média zero e desvio padrão igual a um. \n",
    "\n",
    "Uma das estratégias possíveis para cumprir tal missão é utilizar o `StandardScaler()`, uma ferramenta da biblioteca scikit-learn usada para padronizar os dados numéricos. Ele transforma cada variável pela normalização z-score."
   ]
  },
  {
   "cell_type": "code",
   "execution_count": null,
   "id": "0bacd3a0",
   "metadata": {},
   "outputs": [],
   "source": [
    "scaler = StandardScaler()"
   ]
  },
  {
   "cell_type": "markdown",
   "id": "a39d339f",
   "metadata": {},
   "source": [
    "Dessa forma, temos, na célula acima, a linha `scaler = StandardScaler()`, que cria um objeto da classe `StandardScaler`, da biblioteca `scikit-learn`, para ser usado na aplicação dessa transformação. \n",
    "\n",
    "Esse objeto, porém, ainda não faz nada sozinho — ele precisa ser ajustado aos dados com `scaler.fit(X)` e depois aplicado com `scaler.fit_transform(X)`."
   ]
  },
  {
   "cell_type": "code",
   "execution_count": null,
   "id": "cb18b212",
   "metadata": {},
   "outputs": [],
   "source": [
    "X_train = scaler.fit_transform(X_train)\n",
    "X_test = scaler.transform(X_test)"
   ]
  },
  {
   "cell_type": "markdown",
   "id": "53633725",
   "metadata": {},
   "source": [
    "Como podemos obsevar, temos, na primeira linha (`X_train = scaler.fit_transform(X_train)`), duas ações sendo realizadas ações ao mesmo tempo. Primeiro, o método `fit_transform` calcula a média e o desvio padrão de cada coluna do conjunto de treino (`X_train`). Em seguida, ele aplica a transformação z-score, padronizando os dados. O resultado é que todas as variáveis do conjunto de treino passam a ter a mesma escala, o que facilita o aprendizado do modelo.\n",
    "\n",
    "A segunda linha, `X_test = scaler.transform(X_test)`, aplica a mesma transformação ao conjunto de teste. Isso é fundamental: o `scaler` já foi ajustado com os dados de treino, e agora usamos os mesmos parâmetros (média e desvio padrão) para transformar os dados de teste. Isso garante que o modelo seja avaliado de forma justa, sem usar informações do teste durante o treinamento — o que poderia causar vazamento de dados e resultados enganosos.\n",
    "\n",
    "Com os dados normalizados, vamos partir para a aplicação do algoritmo Lasso?\n",
    "\n",
    "### Entendendo o algoritmo Lasso\n",
    "\n",
    "O Lasso é um modelo linear que estima coeficientes esparsos. Ele é útil em certos contextos devido à sua tendência de preferir soluções com menos coeficientes diferentes de zero, o que efetivamente reduz o número de variáveis (ou características) das quais a solução depende. Por essa razão, o Lasso e suas variantes são fundamentais no campo da compressão de dados (compressed sensing). Sob certas condições, ele pode até recuperar exatamente o conjunto de coeficientes não nulos.\n",
    "\n",
    "Matematicamente, o Lasso consiste em um modelo linear com um termo de regularização adicional:\n",
    "\n",
    "$$\n",
    "\\min_{\\beta} \\left\\{ \\frac{1}{2n} \\sum_{i=1}^{n} (y_i - X_i \\cdot \\beta)^2 + \\alpha \\sum_{j=1}^{p} |\\beta_j| \\right\\}\n",
    "$$\n",
    "\n",
    "### Onde:\n",
    "- $y_i$ são os valores observados (variável dependente),\n",
    "- $X_i$ são os vetores de características (variáveis independentes),\n",
    "- $\\beta$ é o vetor de coeficientes do modelo,\n",
    "- $\\alpha$ é o parâmetro de regularização (também chamado de lambda),\n",
    "- $|\\beta_j|$ é o valor absoluto de cada coeficiente,\n",
    "- $n$ é o número de amostras,\n",
    "- $p$ é o número de variáveis.\n",
    "\n",
    "### Interpretação:\n",
    "- O primeiro termo é o erro quadrático médio (mínimos quadrados).\n",
    "- O segundo termo é a penalização L1, que busca reduzir o número de coeficientes diferentes de zero.\n",
    "- O parâmetro $\\alpha$ controla o equilíbrio entre ajuste ao dado e simplicidade do modelo: quanto maior $\\alpha$, mais forte a penalização.\n",
    "\n",
    "A função objetivo a ser minimizada é composta pela penalidade de mínimos quadrados com um termo extra baseado na norma L1 dos coeficientes. Esse termo adicional é ponderado por uma constante, que controla o grau de penalização.\n",
    "\n",
    "A implementação da classe `Lasso` utiliza o método de descida coordenada (coordinate descent) como algoritmo para ajustar os coeficientes. \n",
    "\n",
    "---\n",
    "\n",
    "Depois dessa introdução teórica sobre o algoritmo Lasso, bora codificar?\n",
    "\n",
    "### Criando um modelo de regressão Lasso\n",
    "\n",
    "O primeiro passo é instanciar o modelo, ou seja, criar um objeto (aqui chamado de `lasso`) que ainda não foi treinado.\n",
    "\n",
    "> Detalhe: O parâmetro `alpha` controla o grau de esparsidade dos coeficientes estimados. Em outras palavras, ele determina quantos coeficientes serão reduzidos a zero, influenciando diretamente a simplicidade do modelo."
   ]
  },
  {
   "cell_type": "code",
   "execution_count": null,
   "id": "e6905af6",
   "metadata": {},
   "outputs": [],
   "source": [
    "lasso = Lasso(alpha=0.1)"
   ]
  },
  {
   "cell_type": "markdown",
   "id": "5b9433a4",
   "metadata": {},
   "source": [
    "Esse objeto pode ser ajustado aos dados com o método `.fit(X_train, y_train)`.\n",
    "\n",
    "O código abaixo representa o momento em que o modelo de regressão Lasso é treinado com os dados. O método `.fit()` é usado para ajustar o modelo aos dados de entrada `X_train` e aos valores que queremos prever `y_train`.\n",
    "\n",
    "Em termos práticos, o que acontece aqui é que o algoritmo Lasso analisa os dados de entrada e tenta encontrar os coeficientes ideais para cada variável (feature), de forma que a combinação dessas variáveis consiga prever com precisão os valores de saída. Ao mesmo tempo, o Lasso aplica uma penalização L1 sobre os coeficientes, o que significa que ele tenta manter os coeficientes o mais próximos possível de zero — e, em muitos casos, zera completamente alguns deles. Isso é útil porque ajuda a identificar quais variáveis são realmente relevantes para o modelo, eliminando aquelas que não contribuem significativamente."
   ]
  },
  {
   "cell_type": "code",
   "execution_count": null,
   "id": "cdf6877c",
   "metadata": {},
   "outputs": [],
   "source": [
    "lasso.fit(X_train, y_train)"
   ]
  },
  {
   "cell_type": "markdown",
   "id": "912ac98d",
   "metadata": {},
   "source": [
    "Esse processo de ajuste é feito com base nos dados de treinamento, e o modelo resultante pode então ser usado para fazer previsões em novos dados, como o conjunto de teste (`X_test`), usando o método `.predict()`."
   ]
  },
  {
   "cell_type": "code",
   "execution_count": null,
   "id": "cd48d31f",
   "metadata": {},
   "outputs": [],
   "source": [
    "y_pred = lasso.predict(X_test)"
   ]
  },
  {
   "cell_type": "markdown",
   "id": "d784b1a6",
   "metadata": {},
   "source": [
    "O modelo recebe os dados de teste `X_test`, que ele nunca viu antes, e gera uma estimativa dos valores alvo correspondentes; ou seja, tenta prever os valores de `y_test`.\n",
    "\n",
    "O resultado é armazenado na variável `y_pred`, que contém os valores previstos pelo modelo, e que, posteriormente, serão comparados com os valores reais para verificar se o modelo tem um bom desempenho. \n",
    "\n",
    "Essa verificação é realizada, em nosso caso, pela métrica do RMSE (Erro quedrático médio).\n",
    "\n",
    "### Checando o desempenho do modelo\n",
    "\n",
    "Para avaliar o desempenho do nosso modelo, os dados de entrada (`X_teste`) são passados ao modelo para gerar previsões (`y_previsto`). Essas previsões são então comparadas com os valores reais (`y_teste`) usando o RMSE, que é a raiz quadrada do erro quadrático médio, dado pela fórmula:\n",
    "\n",
    "$$\n",
    "\\mathrm{RMSE} = \\sqrt{\\mathrm{MSE}} = \\sqrt{\\sum_{i=1}^{N} \\frac{(y_i - \\hat{y}_i)^2}{N}}.\n",
    "$$\n",
    "\n",
    "O RMSE é uma métrica que indica, em média, o quanto as previsões do modelo estão distantes dos valores reais. Quanto menor o RMSE, melhor o desempenho do modelo."
   ]
  },
  {
   "cell_type": "code",
   "execution_count": null,
   "id": "e6fa0a0c",
   "metadata": {},
   "outputs": [],
   "source": [
    "RMSE = root_mean_squared_error(y_test, y_pred)\n",
    "print(RMSE)"
   ]
  },
  {
   "cell_type": "markdown",
   "id": "fda29a29",
   "metadata": {},
   "source": [
    "Olha só... um RMSE consideravelmente baixo! Será que essa métrica se mantém quando comparamos com a Regressão Linear Múltipla Convencional?\n",
    "\n",
    "### Comparando com a Regressão Linear Múltipla Convencional \n",
    "\n",
    "Que tal compararmos o desempenho e os coeficientes do algoritmo Lasso e da regressão Linear Mútlipla Convencional? O primeiro passo, então, é instanciar um modelo de Regressão Linear Múltipla Convencional a partir da classe `LinearRegression()`.\n"
   ]
  },
  {
   "cell_type": "code",
   "execution_count": null,
   "id": "2344f4c2",
   "metadata": {},
   "outputs": [],
   "source": [
    "lr_model = LinearRegression()"
   ]
  },
  {
   "cell_type": "markdown",
   "id": "b438b28c",
   "metadata": {},
   "source": [
    "### Ajustando os dados, realizando previsões e calculando o desempenho\n",
    "\n",
    "Assim como realizado com o algoritmo Lasso, a primeira etapa para a construção do nosso modelo de regressão linear convencional consiste em ensinar o modelo a entender a relação entre as variáveis explicativas (como características de casas, por exemplo) e a variável alvo (como o preço da casa). Isso é feito usando um conjunto de dados de treinamento, que contém exemplos já conhecidos. O modelo analisa esses dados e aprende quais pesos (coeficientes) devem ser atribuídos a cada variável para fazer boas previsões.\n",
    "\n",
    "Depois de treinado, o modelo é colocado à prova: ele recebe um novo conjunto de dados — o conjunto de teste — que ele nunca viu antes. Com base no que aprendeu, ele faz previsões para esses novos exemplos. O resultado é uma lista de valores previstos, que idealmente deveriam estar próximos dos valores reais.\n",
    "\n",
    "Para saber se o modelo está funcionando bem, comparamos os valores que ele previu com os valores reais. Essa comparação é feita usando uma métrica chamada RMSE (Root Mean Squared Error), ou erro quadrático médio da raiz. Essa métrica nos diz, em média, o quanto o modelo erra nas previsões. Quanto menor o RMSE, melhor o modelo está se saindo."
   ]
  },
  {
   "cell_type": "code",
   "execution_count": null,
   "id": "3496923b",
   "metadata": {},
   "outputs": [],
   "source": [
    "lr_model.fit(X_train, y_train)\n",
    "y_pred = lr_model.predict(X_test)\n",
    "RMSE = root_mean_squared_error(y_test, y_pred)\n",
    "print(RMSE)"
   ]
  },
  {
   "cell_type": "markdown",
   "id": "c05c2867",
   "metadata": {},
   "source": [
    "Aqui, podemos observar que o RMSE foi ainda mais baixo do que quando utilizamos o algoritmo Lasso. Ou seja, o desempenho foi, nesse caso, melhor para a regressão linear convencional. Mas... e quando comparamos os coeficientes dos dois modelos? Quais as diferenças encontradas?\n",
    "\n",
    "### Coeficientes dos modelos de regressão\n",
    "\n",
    "Os coeficientes em um modelo de regressão — seja linear convencional ou LASSO — representam o peso ou influência que cada variável independente tem sobre a variável alvo (ou seja, o que estamos tentando prever).\n",
    "\n",
    "Em nosso contexto, estamos tentando prever o valor de uma casa. Para isso, utilizamos como base as características: renda média da vizinhança (MedInc); número médio de quartos (AveRooms); idade média das construções (HouseAge); entre outras variáveis.\n",
    "\n",
    "O modelo de regressão aprende, a partir dos dados, quais dessas variáveis realmente influenciam o preço da casa e quanto elas influenciam. Cada variável recebe um número, o coeficiente, que indica:\n",
    "- Sinal: se o coeficiente é positivo, a variável aumenta o valor previsto; se é negativo, ela diminui.\n",
    "- Magnitude: quanto maior o valor absoluto do coeficiente, maior o impacto da variável na previsão.\n",
    "\n",
    "Vamos descobrir quais são esses coeficientes para cada um dos modelos?"
   ]
  },
  {
   "cell_type": "code",
   "execution_count": null,
   "id": "b6f2567f",
   "metadata": {},
   "outputs": [],
   "source": [
    "lr_coefs = lr_model.coef_\n",
    "lasso_coefs = lasso.coef_"
   ]
  },
  {
   "cell_type": "markdown",
   "id": "8c55165e",
   "metadata": {},
   "source": [
    "As linhas acima são responsáveis por extrair os coeficientes dos modelos de regressão após o treinamento com os dados.\n",
    "\n",
    "A primeira linha (`lr_coefs = lr_model.coef_`) obtém os coeficientes da regressão linear convencional, que indicam o quanto cada variável independente contribui para a previsão da variável alvo. Esses coeficientes são calculados sem penalização, ou seja, o modelo tende a atribuir valores diferentes de zero para todas as variáveis, mesmo que algumas tenham pouca relevância.\n",
    "\n",
    "A segunda linha (`lasso_coefs = lasso.coef_`) extrai os coeficientes do modelo LASSO, que aplica uma penalização L1 durante o treinamento. Essa penalização força o modelo a reduzir ou até zerar os coeficientes de variáveis menos importantes, promovendo uma seleção automática de variáveis e resultando em um modelo mais simples e interpretável.\n",
    "\n",
    "Agora, vamos organizar os coeficientes dos modelos de regressão linear convencional e LASSO em uma tabela para facilitar a visualização e comparação?"
   ]
  },
  {
   "cell_type": "code",
   "execution_count": null,
   "id": "9f8d88ea",
   "metadata": {},
   "outputs": [],
   "source": [
    "coef_df = pd.DataFrame({\n",
    "    'Variável': [f'X{i+1}' for i in range(X_train.shape[1])],\n",
    "    'Linear': lr_coefs,\n",
    "    'LASSO': lasso_coefs\n",
    "})"
   ]
  },
  {
   "cell_type": "markdown",
   "id": "b2af0d2b",
   "metadata": {},
   "source": [
    "O código da célula acima cria uma tabela organizada que reúne os coeficientes obtidos por dois modelos de regressão: o modelo linear convencional e o modelo LASSO. Cada linha da tabela representa uma variável usada na análise, como se fossem características de casas ou qualquer outro tipo de dado.\n",
    "\n",
    "Para cada variável, a tabela mostra dois valores:\n",
    "- Um valor que indica quanto essa variável influencia o resultado segundo o modelo linear.\n",
    "- Outro valor que mostra quanto ela influencia segundo o modelo LASSO, que pode ser menor ou até zero se o modelo considerou a variável irrelevante.\n",
    "\n",
    "Os nomes das variáveis são apresentados como `X1`, `X2`, `X3`, e assim por diante, apenas como uma forma genérica de identificá-las. Essa estrutura facilita a comparação entre os dois modelos, permitindo ver claramente quais variáveis são mais importantes em cada abordagem e quais foram descartadas pelo LASSO.\n",
    "\n",
    "Sabendo disso, conseguimos visualizar e comparar os coeficientes dos dois modelos em um gráfico."
   ]
  },
  {
   "cell_type": "code",
   "execution_count": null,
   "id": "06f4f1ed",
   "metadata": {},
   "outputs": [],
   "source": [
    "coef_df.plot(x='Variável', kind='bar', figsize=(10, 6))\n",
    "plt.title('Comparação dos Coeficientes: Linear vs LASSO')\n",
    "plt.ylabel('Valor do Coeficiente')\n",
    "plt.xticks(rotation=0)\n",
    "plt.grid(True)\n",
    "plt.tight_layout()\n",
    "plt.show()"
   ]
  },
  {
   "cell_type": "markdown",
   "id": "574c3223",
   "metadata": {},
   "source": [
    "No gráfico acima, conseguimos observar e interpretar a influência dos coeficientes para os modelos da Regressão Linear Múltipla Convencional e do algoritmo Lasso, sendo que:\n",
    "- A Regressão Linear Convenciona tende a atribuir coeficientes diferentes de zero para todas as variáveis, mesmo que algumas tenham pouca relevância.\n",
    "- O algoritmo LASSO realiza regularização L1, o que pode levar alguns coeficientes a serem exatamente zero — ou seja, o modelo realiza uma seleção de variáveis automaticamente.\n",
    "  \n",
    "Esse comportamento é útil quando há muitas variáveis correlacionadas ou ruído, pois o LASSO ajuda a evitar overfitting e melhora a interpretabilidade do modelo. Mais especificamente, é possível detalhar:\n",
    "\n",
    "- Sobre a variável X1: ambos os modelos consideram essa variável relevante, com coeficientes positivos. No entanto, o modelo linear atribui um valor maior, indicando uma influência mais forte.\n",
    "\n",
    "- Sobre a variável X2: os dois modelos atribuem coeficientes pequenos e positivos, sugerindo que essa variável tem uma influência leve na previsão.\n",
    "\n",
    "- Sobre as variáveis X3 e X4: apenas o modelo linear atribui coeficientes positivos. O LASSO zera esses coeficientes, o que significa que ele considera essas variáveis irrelevantes para a previsão.\n",
    "\n",
    "- Sobre a variável X5: nenhum dos modelos atribui um coeficiente significativo. Isso indica que essa variável provavelmente não contribui de forma relevante para o modelo.\n",
    "\n",
    "- Sobre as variáveis X6 e X7: somente o modelo linear atribui coeficientes negativos. O LASSO ignora essas variáveis, sugerindo que elas não são úteis ou que poderiam introduzir ruído.\n",
    "\n",
    "- Sobre a variável X8: ambos os modelos atribuem coeficientes negativos significativos, o que indica que essa variável tem uma influência negativa importante na previsão.\n",
    "\n",
    "Portanto, como interpretação geral, podemos concluir que o modelo linear tende a incluir todas as variáveis, mesmo que algumas tenham impacto pequeno ou nulo; enquanto que o modelo LASSO realiza uma seleção automática de variáveis, eliminando aquelas que não contribuem significativamente para a previsão. Isso é visível nas variáveis X3, X4, X6 e X7, que foram ignoradas pelo LASSO."
   ]
  },
  {
   "cell_type": "markdown",
   "id": "75977458",
   "metadata": {},
   "source": [
    "## Conclusões \n",
    "\n",
    "Com essa atividade, pode-se observar que a regressão Lasso pode ser indicada para problemas preditivos, pois sua capacidade de realizar a seleção automática de variáveis pode simplificar os modelos e melhorar a precisão da previsão. Esse modelo de regressão seria adequada, por exemplo, para tratamento de conjuntos de dados de alta dimensão (pois poderia ajudar a reduzir a dimensionalidade dentre de um conjunto de dados, ou reduzir os parâmetros de peso para zero, eliminando funcionalidades menos importantes do modelo). \n",
    " \n",
    "Ao penalizar os coeficientes por meio da norma L1, o Lasso é capaz de reduzir a complexidade do modelo, eliminando variáveis menos relevantes e prevenindo overfitting, sem comprometer significativamente a capacidade preditiva.\n",
    "\n",
    "Em resumo, a regressão Lasso se mostra uma ferramenta poderosa para modelagem preditiva em situações com grande quantidade de variáveis, oferecendo uma abordagem equilibrada entre precisão e interpretabilidade do modelo."
   ]
  },
  {
   "cell_type": "markdown",
   "id": "267f0b7b",
   "metadata": {},
   "source": [
    "## Referências\n",
    "\n",
    "**1.1. Linear Models — scikit-learn 0.24.0 documentation.** Disponível em: <https://scikit-learn.org/stable/modules/linear_model.html>. Acesso em: 11 set. 2025.\n",
    "\n",
    "**RYAN & MATT DATA SCIENCE. Lasso Regression with Scikit-Learn (Beginner Friendly).** Disponível em: <https://www.youtube.com/watch?v=LmpBt0tenJE>. Acesso em: 11 set. 2025.\n",
    "\n",
    "**Tutorial de Regressão Lasso com Scikit-Learn | LabEx.** Disponível em: <https://labex.io/pt/tutorials/ml-scikit-learn-lasso-regression-49189>. Acesso em: 11 set. 2025.\n",
    "\n",
    "**The California housing dataset — Scikit-learn course.** Disponível em: <https://inria.github.io/scikit-learn-mooc/python_scripts/datasets_california_housing.html>.  Acesso em: 11 set. 2025."
   ]
  },
  {
   "cell_type": "markdown",
   "id": "e5039224",
   "metadata": {},
   "source": [
    "## Uso de Inteligência Artificial\n",
    "\n",
    "O modelo Microsoft Copilot foi utilizado especificamente para criar a história inicial no estilo RPG e para revisar os textos de desenvolvimento dos exercícios, ajudando a detalhar o passo a passo seguido para guiar melhor o leitor. As perguntas realizadas à IA foram no estilo: *\"Escrevi o seguinte texto: ... Como posso melhorá-lo para guiar o leitor passo a passo, mostrando de maneira clara minha resolução?\"*."
   ]
  }
 ],
 "metadata": {
  "kernelspec": {
   "display_name": "Python 3",
   "language": "python",
   "name": "python3"
  },
  "language_info": {
   "codemirror_mode": {
    "name": "ipython",
    "version": 3
   },
   "file_extension": ".py",
   "mimetype": "text/x-python",
   "name": "python",
   "nbconvert_exporter": "python",
   "pygments_lexer": "ipython3",
   "version": "3.12.7"
  }
 },
 "nbformat": 4,
 "nbformat_minor": 5
}
